{
 "cells": [
  {
   "cell_type": "markdown",
   "id": "3a0eb3eb",
   "metadata": {},
   "source": [
    "Name: Shubham More \\\n",
    "UID: 2021300079 \\\n",
    "Branch: TE Computer Engineering \\\n",
    "Experiment: 7 \\\n",
    "Dataset Link: https://www.kaggle.com/datasets/yasserh/wine-quality-dataset"
   ]
  },
  {
   "cell_type": "markdown",
   "id": "popular-dating",
   "metadata": {
    "papermill": {
     "duration": 0.044829,
     "end_time": "2021-06-02T21:01:13.001444",
     "exception": false,
     "start_time": "2021-06-02T21:01:12.956615",
     "status": "completed"
    },
    "tags": []
   },
   "source": [
    "## 1. Principal Component Analysis(PCA):"
   ]
  },
  {
   "cell_type": "markdown",
   "id": "graphic-nowhere",
   "metadata": {
    "papermill": {
     "duration": 0.04481,
     "end_time": "2021-06-02T21:01:13.091736",
     "exception": false,
     "start_time": "2021-06-02T21:01:13.046926",
     "status": "completed"
    },
    "tags": []
   },
   "source": [
    "<font color=\"blue\">\n",
    "It can be used as a dimensionality reduction method, which can help to minimize the number of the variables (or columns of a data frame) without losing much of the original information. This is useful especially when you are building machine learning models based on the data with many variables like 100s or 1000s.\n",
    "\n",
    "\n",
    "While regression determines a line of best fit to a dataset, factor analysis or principal component analysis determines several orthogonal lines of best fit to the dataset.Orthogonal means at right angles. The lines are perpendicular to each other in n dimensional space where n dimensional space is the variable sample space. There as many dimensions as there are variables,i.e., a dataset with 4 variables the sample space is 4 dimensionals.\n",
    "    \n",
    "\n",
    "If we use this technique on a dataset with large numbers of variables, we can compress the amount of explained variation to just a few components.\n",
    "\n",
    "\n",
    "PCA is just a transformation of our data and attempts to find out what features excplain the most variance in our data\n",
    "    \n",
    "\n",
    "We try to get rid of the components that do not explain enough the variance in our data."
   ]
  },
  {
   "cell_type": "code",
   "execution_count": 1,
   "id": "instructional-retirement",
   "metadata": {
    "execution": {
     "iopub.execute_input": "2021-06-02T21:01:12.089241Z",
     "iopub.status.busy": "2021-06-02T21:01:12.088555Z",
     "iopub.status.idle": "2021-06-02T21:01:12.910727Z",
     "shell.execute_reply": "2021-06-02T21:01:12.911349Z",
     "shell.execute_reply.started": "2021-06-02T20:58:01.650334Z"
    },
    "papermill": {
     "duration": 0.871439,
     "end_time": "2021-06-02T21:01:12.911528",
     "exception": false,
     "start_time": "2021-06-02T21:01:12.040089",
     "status": "completed"
    },
    "tags": []
   },
   "outputs": [],
   "source": [
    "import matplotlib.pyplot as plt\n",
    "import seaborn as sns\n",
    "import numpy as np # linear algebra\n",
    "import pandas as pd # data processing, CSV file I/O (e.g. pd.read_csv)"
   ]
  },
  {
   "cell_type": "code",
   "execution_count": 2,
   "id": "capable-meter",
   "metadata": {
    "execution": {
     "iopub.execute_input": "2021-06-02T21:01:13.184151Z",
     "iopub.status.busy": "2021-06-02T21:01:13.183551Z",
     "iopub.status.idle": "2021-06-02T21:01:13.235044Z",
     "shell.execute_reply": "2021-06-02T21:01:13.235614Z",
     "shell.execute_reply.started": "2021-06-02T20:58:01.743457Z"
    },
    "papermill": {
     "duration": 0.099482,
     "end_time": "2021-06-02T21:01:13.235772",
     "exception": false,
     "start_time": "2021-06-02T21:01:13.136290",
     "status": "completed"
    },
    "tags": []
   },
   "outputs": [
    {
     "data": {
      "text/html": [
       "<div>\n",
       "<style scoped>\n",
       "    .dataframe tbody tr th:only-of-type {\n",
       "        vertical-align: middle;\n",
       "    }\n",
       "\n",
       "    .dataframe tbody tr th {\n",
       "        vertical-align: top;\n",
       "    }\n",
       "\n",
       "    .dataframe thead th {\n",
       "        text-align: right;\n",
       "    }\n",
       "</style>\n",
       "<table border=\"1\" class=\"dataframe\">\n",
       "  <thead>\n",
       "    <tr style=\"text-align: right;\">\n",
       "      <th></th>\n",
       "      <th>Alcohol</th>\n",
       "      <th>Malic_Acid</th>\n",
       "      <th>Ash</th>\n",
       "      <th>Ash_Alcanity</th>\n",
       "      <th>Magnesium</th>\n",
       "      <th>Total_Phenols</th>\n",
       "      <th>Flavanoids</th>\n",
       "      <th>Nonflavanoid_Phenols</th>\n",
       "      <th>Proanthocyanins</th>\n",
       "      <th>Color_Intensity</th>\n",
       "      <th>Hue</th>\n",
       "      <th>OD280</th>\n",
       "      <th>Proline</th>\n",
       "      <th>Customer_Segment</th>\n",
       "    </tr>\n",
       "  </thead>\n",
       "  <tbody>\n",
       "    <tr>\n",
       "      <th>0</th>\n",
       "      <td>14.23</td>\n",
       "      <td>1.71</td>\n",
       "      <td>2.43</td>\n",
       "      <td>15.6</td>\n",
       "      <td>127</td>\n",
       "      <td>2.80</td>\n",
       "      <td>3.06</td>\n",
       "      <td>0.28</td>\n",
       "      <td>2.29</td>\n",
       "      <td>5.64</td>\n",
       "      <td>1.04</td>\n",
       "      <td>3.92</td>\n",
       "      <td>1065</td>\n",
       "      <td>1</td>\n",
       "    </tr>\n",
       "    <tr>\n",
       "      <th>1</th>\n",
       "      <td>13.20</td>\n",
       "      <td>1.78</td>\n",
       "      <td>2.14</td>\n",
       "      <td>11.2</td>\n",
       "      <td>100</td>\n",
       "      <td>2.65</td>\n",
       "      <td>2.76</td>\n",
       "      <td>0.26</td>\n",
       "      <td>1.28</td>\n",
       "      <td>4.38</td>\n",
       "      <td>1.05</td>\n",
       "      <td>3.40</td>\n",
       "      <td>1050</td>\n",
       "      <td>1</td>\n",
       "    </tr>\n",
       "    <tr>\n",
       "      <th>2</th>\n",
       "      <td>13.16</td>\n",
       "      <td>2.36</td>\n",
       "      <td>2.67</td>\n",
       "      <td>18.6</td>\n",
       "      <td>101</td>\n",
       "      <td>2.80</td>\n",
       "      <td>3.24</td>\n",
       "      <td>0.30</td>\n",
       "      <td>2.81</td>\n",
       "      <td>5.68</td>\n",
       "      <td>1.03</td>\n",
       "      <td>3.17</td>\n",
       "      <td>1185</td>\n",
       "      <td>1</td>\n",
       "    </tr>\n",
       "    <tr>\n",
       "      <th>3</th>\n",
       "      <td>14.37</td>\n",
       "      <td>1.95</td>\n",
       "      <td>2.50</td>\n",
       "      <td>16.8</td>\n",
       "      <td>113</td>\n",
       "      <td>3.85</td>\n",
       "      <td>3.49</td>\n",
       "      <td>0.24</td>\n",
       "      <td>2.18</td>\n",
       "      <td>7.80</td>\n",
       "      <td>0.86</td>\n",
       "      <td>3.45</td>\n",
       "      <td>1480</td>\n",
       "      <td>1</td>\n",
       "    </tr>\n",
       "    <tr>\n",
       "      <th>4</th>\n",
       "      <td>13.24</td>\n",
       "      <td>2.59</td>\n",
       "      <td>2.87</td>\n",
       "      <td>21.0</td>\n",
       "      <td>118</td>\n",
       "      <td>2.80</td>\n",
       "      <td>2.69</td>\n",
       "      <td>0.39</td>\n",
       "      <td>1.82</td>\n",
       "      <td>4.32</td>\n",
       "      <td>1.04</td>\n",
       "      <td>2.93</td>\n",
       "      <td>735</td>\n",
       "      <td>1</td>\n",
       "    </tr>\n",
       "    <tr>\n",
       "      <th>...</th>\n",
       "      <td>...</td>\n",
       "      <td>...</td>\n",
       "      <td>...</td>\n",
       "      <td>...</td>\n",
       "      <td>...</td>\n",
       "      <td>...</td>\n",
       "      <td>...</td>\n",
       "      <td>...</td>\n",
       "      <td>...</td>\n",
       "      <td>...</td>\n",
       "      <td>...</td>\n",
       "      <td>...</td>\n",
       "      <td>...</td>\n",
       "      <td>...</td>\n",
       "    </tr>\n",
       "    <tr>\n",
       "      <th>173</th>\n",
       "      <td>13.71</td>\n",
       "      <td>5.65</td>\n",
       "      <td>2.45</td>\n",
       "      <td>20.5</td>\n",
       "      <td>95</td>\n",
       "      <td>1.68</td>\n",
       "      <td>0.61</td>\n",
       "      <td>0.52</td>\n",
       "      <td>1.06</td>\n",
       "      <td>7.70</td>\n",
       "      <td>0.64</td>\n",
       "      <td>1.74</td>\n",
       "      <td>740</td>\n",
       "      <td>3</td>\n",
       "    </tr>\n",
       "    <tr>\n",
       "      <th>174</th>\n",
       "      <td>13.40</td>\n",
       "      <td>3.91</td>\n",
       "      <td>2.48</td>\n",
       "      <td>23.0</td>\n",
       "      <td>102</td>\n",
       "      <td>1.80</td>\n",
       "      <td>0.75</td>\n",
       "      <td>0.43</td>\n",
       "      <td>1.41</td>\n",
       "      <td>7.30</td>\n",
       "      <td>0.70</td>\n",
       "      <td>1.56</td>\n",
       "      <td>750</td>\n",
       "      <td>3</td>\n",
       "    </tr>\n",
       "    <tr>\n",
       "      <th>175</th>\n",
       "      <td>13.27</td>\n",
       "      <td>4.28</td>\n",
       "      <td>2.26</td>\n",
       "      <td>20.0</td>\n",
       "      <td>120</td>\n",
       "      <td>1.59</td>\n",
       "      <td>0.69</td>\n",
       "      <td>0.43</td>\n",
       "      <td>1.35</td>\n",
       "      <td>10.20</td>\n",
       "      <td>0.59</td>\n",
       "      <td>1.56</td>\n",
       "      <td>835</td>\n",
       "      <td>3</td>\n",
       "    </tr>\n",
       "    <tr>\n",
       "      <th>176</th>\n",
       "      <td>13.17</td>\n",
       "      <td>2.59</td>\n",
       "      <td>2.37</td>\n",
       "      <td>20.0</td>\n",
       "      <td>120</td>\n",
       "      <td>1.65</td>\n",
       "      <td>0.68</td>\n",
       "      <td>0.53</td>\n",
       "      <td>1.46</td>\n",
       "      <td>9.30</td>\n",
       "      <td>0.60</td>\n",
       "      <td>1.62</td>\n",
       "      <td>840</td>\n",
       "      <td>3</td>\n",
       "    </tr>\n",
       "    <tr>\n",
       "      <th>177</th>\n",
       "      <td>14.13</td>\n",
       "      <td>4.10</td>\n",
       "      <td>2.74</td>\n",
       "      <td>24.5</td>\n",
       "      <td>96</td>\n",
       "      <td>2.05</td>\n",
       "      <td>0.76</td>\n",
       "      <td>0.56</td>\n",
       "      <td>1.35</td>\n",
       "      <td>9.20</td>\n",
       "      <td>0.61</td>\n",
       "      <td>1.60</td>\n",
       "      <td>560</td>\n",
       "      <td>3</td>\n",
       "    </tr>\n",
       "  </tbody>\n",
       "</table>\n",
       "<p>178 rows × 14 columns</p>\n",
       "</div>"
      ],
      "text/plain": [
       "     Alcohol  Malic_Acid   Ash  Ash_Alcanity  Magnesium  Total_Phenols  \\\n",
       "0      14.23        1.71  2.43          15.6        127           2.80   \n",
       "1      13.20        1.78  2.14          11.2        100           2.65   \n",
       "2      13.16        2.36  2.67          18.6        101           2.80   \n",
       "3      14.37        1.95  2.50          16.8        113           3.85   \n",
       "4      13.24        2.59  2.87          21.0        118           2.80   \n",
       "..       ...         ...   ...           ...        ...            ...   \n",
       "173    13.71        5.65  2.45          20.5         95           1.68   \n",
       "174    13.40        3.91  2.48          23.0        102           1.80   \n",
       "175    13.27        4.28  2.26          20.0        120           1.59   \n",
       "176    13.17        2.59  2.37          20.0        120           1.65   \n",
       "177    14.13        4.10  2.74          24.5         96           2.05   \n",
       "\n",
       "     Flavanoids  Nonflavanoid_Phenols  Proanthocyanins  Color_Intensity   Hue  \\\n",
       "0          3.06                  0.28             2.29             5.64  1.04   \n",
       "1          2.76                  0.26             1.28             4.38  1.05   \n",
       "2          3.24                  0.30             2.81             5.68  1.03   \n",
       "3          3.49                  0.24             2.18             7.80  0.86   \n",
       "4          2.69                  0.39             1.82             4.32  1.04   \n",
       "..          ...                   ...              ...              ...   ...   \n",
       "173        0.61                  0.52             1.06             7.70  0.64   \n",
       "174        0.75                  0.43             1.41             7.30  0.70   \n",
       "175        0.69                  0.43             1.35            10.20  0.59   \n",
       "176        0.68                  0.53             1.46             9.30  0.60   \n",
       "177        0.76                  0.56             1.35             9.20  0.61   \n",
       "\n",
       "     OD280  Proline  Customer_Segment  \n",
       "0     3.92     1065                 1  \n",
       "1     3.40     1050                 1  \n",
       "2     3.17     1185                 1  \n",
       "3     3.45     1480                 1  \n",
       "4     2.93      735                 1  \n",
       "..     ...      ...               ...  \n",
       "173   1.74      740                 3  \n",
       "174   1.56      750                 3  \n",
       "175   1.56      835                 3  \n",
       "176   1.62      840                 3  \n",
       "177   1.60      560                 3  \n",
       "\n",
       "[178 rows x 14 columns]"
      ]
     },
     "execution_count": 2,
     "metadata": {},
     "output_type": "execute_result"
    }
   ],
   "source": [
    "df = pd.read_csv(\"./Wine.csv\")\n",
    "df"
   ]
  },
  {
   "cell_type": "code",
   "execution_count": 3,
   "id": "chronic-delivery",
   "metadata": {
    "execution": {
     "iopub.execute_input": "2021-06-02T21:01:13.330747Z",
     "iopub.status.busy": "2021-06-02T21:01:13.330138Z",
     "iopub.status.idle": "2021-06-02T21:01:13.336354Z",
     "shell.execute_reply": "2021-06-02T21:01:13.336862Z",
     "shell.execute_reply.started": "2021-06-02T20:58:01.813606Z"
    },
    "papermill": {
     "duration": 0.055057,
     "end_time": "2021-06-02T21:01:13.337026",
     "exception": false,
     "start_time": "2021-06-02T21:01:13.281969",
     "status": "completed"
    },
    "tags": []
   },
   "outputs": [
    {
     "data": {
      "text/plain": [
       "Index(['Alcohol', 'Malic_Acid', 'Ash', 'Ash_Alcanity', 'Magnesium',\n",
       "       'Total_Phenols', 'Flavanoids', 'Nonflavanoid_Phenols',\n",
       "       'Proanthocyanins', 'Color_Intensity', 'Hue', 'OD280', 'Proline',\n",
       "       'Customer_Segment'],\n",
       "      dtype='object')"
      ]
     },
     "execution_count": 3,
     "metadata": {},
     "output_type": "execute_result"
    }
   ],
   "source": [
    "df.columns"
   ]
  },
  {
   "cell_type": "markdown",
   "id": "blessed-homeless",
   "metadata": {
    "papermill": {
     "duration": 0.045484,
     "end_time": "2021-06-02T21:01:13.428784",
     "exception": false,
     "start_time": "2021-06-02T21:01:13.383300",
     "status": "completed"
    },
    "tags": []
   },
   "source": [
    "<font color=\"blue\">\n",
    "In this dataset, there are 14 dimensions or variables, thus it is difficult to visualize all of them. We can utilize PCA to learn the two most important components of the data and visualize the data in this new two dimensional space."
   ]
  },
  {
   "cell_type": "markdown",
   "id": "annual-uncertainty",
   "metadata": {
    "papermill": {
     "duration": 0.04515,
     "end_time": "2021-06-02T21:01:13.519841",
     "exception": false,
     "start_time": "2021-06-02T21:01:13.474691",
     "status": "completed"
    },
    "tags": []
   },
   "source": [
    "<font color=\"blue\">\n",
    "We need to apply PCA before applying machine learning algorithm.\n",
    "\n",
    "We should also apply it to the features, not to the target value\"Customer Segment\" in this dataset."
   ]
  },
  {
   "cell_type": "code",
   "execution_count": 4,
   "id": "technical-timber",
   "metadata": {
    "execution": {
     "iopub.execute_input": "2021-06-02T21:01:13.618252Z",
     "iopub.status.busy": "2021-06-02T21:01:13.617564Z",
     "iopub.status.idle": "2021-06-02T21:01:13.837379Z",
     "shell.execute_reply": "2021-06-02T21:01:13.836464Z",
     "shell.execute_reply.started": "2021-06-02T20:58:01.823559Z"
    },
    "papermill": {
     "duration": 0.272105,
     "end_time": "2021-06-02T21:01:13.837585",
     "exception": false,
     "start_time": "2021-06-02T21:01:13.565480",
     "status": "completed"
    },
    "tags": []
   },
   "outputs": [],
   "source": [
    "from sklearn.model_selection import train_test_split\n",
    "X=df.drop(\"Customer_Segment\",axis=1).values\n",
    "y=df[\"Customer_Segment\"].values"
   ]
  },
  {
   "cell_type": "code",
   "execution_count": 5,
   "id": "healthy-slovenia",
   "metadata": {
    "execution": {
     "iopub.execute_input": "2021-06-02T21:01:13.935932Z",
     "iopub.status.busy": "2021-06-02T21:01:13.935338Z",
     "iopub.status.idle": "2021-06-02T21:01:13.938515Z",
     "shell.execute_reply": "2021-06-02T21:01:13.938069Z",
     "shell.execute_reply.started": "2021-06-02T20:58:01.842774Z"
    },
    "papermill": {
     "duration": 0.053784,
     "end_time": "2021-06-02T21:01:13.938626",
     "exception": false,
     "start_time": "2021-06-02T21:01:13.884842",
     "status": "completed"
    },
    "tags": []
   },
   "outputs": [],
   "source": [
    "X_train, X_test, y_train,y_test =train_test_split(X,y, test_size=0.2,random_state=42)"
   ]
  },
  {
   "cell_type": "markdown",
   "id": "affecting-renaissance",
   "metadata": {
    "papermill": {
     "duration": 0.030015,
     "end_time": "2021-06-02T21:01:14.000008",
     "exception": false,
     "start_time": "2021-06-02T21:01:13.969993",
     "status": "completed"
    },
    "tags": []
   },
   "source": [
    "<font color=\"blue\">\n",
    "Before we use PCA in the data, we need to standartize the variables by using standart scaler of sklearn.\n",
    "\n",
    "Standart Scaler transformed our data into a numpy array and standartized all of the variables of the data"
   ]
  },
  {
   "cell_type": "code",
   "execution_count": 6,
   "id": "framed-blake",
   "metadata": {
    "execution": {
     "iopub.execute_input": "2021-06-02T21:01:14.066321Z",
     "iopub.status.busy": "2021-06-02T21:01:14.065587Z",
     "iopub.status.idle": "2021-06-02T21:01:14.069909Z",
     "shell.execute_reply": "2021-06-02T21:01:14.069486Z",
     "shell.execute_reply.started": "2021-06-02T20:58:01.858758Z"
    },
    "papermill": {
     "duration": 0.039194,
     "end_time": "2021-06-02T21:01:14.070021",
     "exception": false,
     "start_time": "2021-06-02T21:01:14.030827",
     "status": "completed"
    },
    "tags": []
   },
   "outputs": [],
   "source": [
    "from sklearn.preprocessing import StandardScaler\n",
    "sc = StandardScaler()\n",
    "X_train = sc.fit_transform(X_train)\n",
    "X_test = sc.transform(X_test)"
   ]
  },
  {
   "cell_type": "markdown",
   "id": "constant-airplane",
   "metadata": {
    "papermill": {
     "duration": 0.030255,
     "end_time": "2021-06-02T21:01:14.130714",
     "exception": false,
     "start_time": "2021-06-02T21:01:14.100459",
     "status": "completed"
    },
    "tags": []
   },
   "source": [
    "<font color=\"blue\">\n",
    "Now at this point we can apply PCA:"
   ]
  },
  {
   "cell_type": "code",
   "execution_count": 7,
   "id": "entitled-emission",
   "metadata": {
    "execution": {
     "iopub.execute_input": "2021-06-02T21:01:14.195176Z",
     "iopub.status.busy": "2021-06-02T21:01:14.194559Z",
     "iopub.status.idle": "2021-06-02T21:01:14.344040Z",
     "shell.execute_reply": "2021-06-02T21:01:14.343595Z",
     "shell.execute_reply.started": "2021-06-02T20:58:01.881299Z"
    },
    "papermill": {
     "duration": 0.183187,
     "end_time": "2021-06-02T21:01:14.344172",
     "exception": false,
     "start_time": "2021-06-02T21:01:14.160985",
     "status": "completed"
    },
    "tags": []
   },
   "outputs": [],
   "source": [
    "from sklearn.decomposition import PCA\n",
    "pca= PCA(n_components=2)# we make an instance of PCA and decide how many components we want to have\n",
    "X_train = pca.fit_transform(X_train)\n",
    "X_test = pca.transform(X_test)"
   ]
  },
  {
   "cell_type": "code",
   "execution_count": 8,
   "id": "damaged-setup",
   "metadata": {
    "execution": {
     "iopub.execute_input": "2021-06-02T21:01:14.407641Z",
     "iopub.status.busy": "2021-06-02T21:01:14.407019Z",
     "iopub.status.idle": "2021-06-02T21:01:14.412063Z",
     "shell.execute_reply": "2021-06-02T21:01:14.411665Z",
     "shell.execute_reply.started": "2021-06-02T20:58:01.941718Z"
    },
    "papermill": {
     "duration": 0.038085,
     "end_time": "2021-06-02T21:01:14.412191",
     "exception": false,
     "start_time": "2021-06-02T21:01:14.374106",
     "status": "completed"
    },
    "tags": []
   },
   "outputs": [
    {
     "name": "stdout",
     "output_type": "stream",
     "text": [
      "(142, 2)\n",
      "(36, 2)\n"
     ]
    }
   ],
   "source": [
    "print(X_train.shape) # As we can see, we have reduced feature into 2 main features\n",
    "print(X_test.shape)"
   ]
  },
  {
   "cell_type": "code",
   "execution_count": 9,
   "id": "known-platform",
   "metadata": {
    "execution": {
     "iopub.execute_input": "2021-06-02T21:01:14.508713Z",
     "iopub.status.busy": "2021-06-02T21:01:14.508048Z",
     "iopub.status.idle": "2021-06-02T21:01:14.711871Z",
     "shell.execute_reply": "2021-06-02T21:01:14.711482Z",
     "shell.execute_reply.started": "2021-06-02T20:58:01.949319Z"
    },
    "papermill": {
     "duration": 0.269729,
     "end_time": "2021-06-02T21:01:14.711976",
     "exception": false,
     "start_time": "2021-06-02T21:01:14.442247",
     "status": "completed"
    },
    "tags": []
   },
   "outputs": [
    {
     "data": {
      "text/plain": [
       "Text(0, 0.5, 'The Second Principal Component')"
      ]
     },
     "execution_count": 9,
     "metadata": {},
     "output_type": "execute_result"
    },
    {
     "data": {
      "image/png": "[encoded data removed]",
      "text/plain": [
       "<Figure size 1500x1000 with 1 Axes>"
      ]
     },
     "metadata": {},
     "output_type": "display_data"
    }
   ],
   "source": [
    "plt.figure(figsize=(15,10))\n",
    "plt.scatter(X_train[:,0],X_train[:,1],cmap=\"plasma\")\n",
    "plt.xlabel(\"The First Principal Component\")\n",
    "plt.ylabel(\"The Second Principal Component\")\n",
    "#Here we plot all the rows of columns 1 and column 2 in a scatterplot"
   ]
  },
  {
   "cell_type": "code",
   "execution_count": 10,
   "id": "powerful-workstation",
   "metadata": {
    "execution": {
     "iopub.execute_input": "2021-06-02T21:01:14.780363Z",
     "iopub.status.busy": "2021-06-02T21:01:14.779690Z",
     "iopub.status.idle": "2021-06-02T21:01:14.784447Z",
     "shell.execute_reply": "2021-06-02T21:01:14.784004Z",
     "shell.execute_reply.started": "2021-06-02T20:58:02.202421Z"
    },
    "papermill": {
     "duration": 0.041071,
     "end_time": "2021-06-02T21:01:14.784554",
     "exception": false,
     "start_time": "2021-06-02T21:01:14.743483",
     "status": "completed"
    },
    "tags": []
   },
   "outputs": [
    {
     "data": {
      "text/plain": [
       "array([[ 0.12753249, -0.25623655, -0.02236181, -0.24428137,  0.14757757,\n",
       "         0.38490786,  0.41950095, -0.2992598 ,  0.30843734, -0.11907301,\n",
       "         0.29949964,  0.38381622,  0.27587548],\n",
       "       [-0.4928047 , -0.1904464 , -0.31676447,  0.03513857, -0.26217161,\n",
       "        -0.09601687, -0.01513129, -0.07626286, -0.0738558 , -0.53396728,\n",
       "         0.28133315,  0.14274046, -0.381054  ]])"
      ]
     },
     "execution_count": 10,
     "metadata": {},
     "output_type": "execute_result"
    }
   ],
   "source": [
    "pca.components_"
   ]
  },
  {
   "cell_type": "code",
   "execution_count": 11,
   "id": "failing-lexington",
   "metadata": {
    "execution": {
     "iopub.execute_input": "2021-06-02T21:01:14.859615Z",
     "iopub.status.busy": "2021-06-02T21:01:14.859170Z",
     "iopub.status.idle": "2021-06-02T21:01:14.863042Z",
     "shell.execute_reply": "2021-06-02T21:01:14.862600Z",
     "shell.execute_reply.started": "2021-06-02T20:58:02.213072Z"
    },
    "papermill": {
     "duration": 0.047112,
     "end_time": "2021-06-02T21:01:14.863184",
     "exception": false,
     "start_time": "2021-06-02T21:01:14.816072",
     "status": "completed"
    },
    "tags": []
   },
   "outputs": [
    {
     "data": {
      "text/html": [
       "<div>\n",
       "<style scoped>\n",
       "    .dataframe tbody tr th:only-of-type {\n",
       "        vertical-align: middle;\n",
       "    }\n",
       "\n",
       "    .dataframe tbody tr th {\n",
       "        vertical-align: top;\n",
       "    }\n",
       "\n",
       "    .dataframe thead th {\n",
       "        text-align: right;\n",
       "    }\n",
       "</style>\n",
       "<table border=\"1\" class=\"dataframe\">\n",
       "  <thead>\n",
       "    <tr style=\"text-align: right;\">\n",
       "      <th></th>\n",
       "      <th>0</th>\n",
       "      <th>1</th>\n",
       "      <th>2</th>\n",
       "      <th>3</th>\n",
       "      <th>4</th>\n",
       "      <th>5</th>\n",
       "      <th>6</th>\n",
       "      <th>7</th>\n",
       "      <th>8</th>\n",
       "      <th>9</th>\n",
       "      <th>10</th>\n",
       "      <th>11</th>\n",
       "      <th>12</th>\n",
       "    </tr>\n",
       "  </thead>\n",
       "  <tbody>\n",
       "    <tr>\n",
       "      <th>0</th>\n",
       "      <td>0.127532</td>\n",
       "      <td>-0.256237</td>\n",
       "      <td>-0.022362</td>\n",
       "      <td>-0.244281</td>\n",
       "      <td>0.147578</td>\n",
       "      <td>0.384908</td>\n",
       "      <td>0.419501</td>\n",
       "      <td>-0.299260</td>\n",
       "      <td>0.308437</td>\n",
       "      <td>-0.119073</td>\n",
       "      <td>0.299500</td>\n",
       "      <td>0.383816</td>\n",
       "      <td>0.275875</td>\n",
       "    </tr>\n",
       "    <tr>\n",
       "      <th>1</th>\n",
       "      <td>-0.492805</td>\n",
       "      <td>-0.190446</td>\n",
       "      <td>-0.316764</td>\n",
       "      <td>0.035139</td>\n",
       "      <td>-0.262172</td>\n",
       "      <td>-0.096017</td>\n",
       "      <td>-0.015131</td>\n",
       "      <td>-0.076263</td>\n",
       "      <td>-0.073856</td>\n",
       "      <td>-0.533967</td>\n",
       "      <td>0.281333</td>\n",
       "      <td>0.142740</td>\n",
       "      <td>-0.381054</td>\n",
       "    </tr>\n",
       "  </tbody>\n",
       "</table>\n",
       "</div>"
      ],
      "text/plain": [
       "         0         1         2         3         4         5         6   \\\n",
       "0  0.127532 -0.256237 -0.022362 -0.244281  0.147578  0.384908  0.419501   \n",
       "1 -0.492805 -0.190446 -0.316764  0.035139 -0.262172 -0.096017 -0.015131   \n",
       "\n",
       "         7         8         9         10        11        12  \n",
       "0 -0.299260  0.308437 -0.119073  0.299500  0.383816  0.275875  \n",
       "1 -0.076263 -0.073856 -0.533967  0.281333  0.142740 -0.381054  "
      ]
     },
     "execution_count": 11,
     "metadata": {},
     "output_type": "execute_result"
    }
   ],
   "source": [
    "df_comp=pd.DataFrame(pca.components_)\n",
    "df_comp"
   ]
  },
  {
   "cell_type": "markdown",
   "id": "sharing-nickname",
   "metadata": {
    "papermill": {
     "duration": 0.031788,
     "end_time": "2021-06-02T21:01:14.927054",
     "exception": false,
     "start_time": "2021-06-02T21:01:14.895266",
     "status": "completed"
    },
    "tags": []
   },
   "source": [
    "<font color=\"blue\">\n",
    "Each row represents actual componnents and each column relates back original features.\n",
    "\n",
    "We can see the relationship better via a heatmap.\n",
    "\n",
    "But first we need to transfor it into a dataframe in order to use the visualization libraries."
   ]
  },
  {
   "cell_type": "code",
   "execution_count": 12,
   "id": "specific-viewer",
   "metadata": {
    "execution": {
     "iopub.execute_input": "2021-06-02T21:01:15.039473Z",
     "iopub.status.busy": "2021-06-02T21:01:15.019958Z",
     "iopub.status.idle": "2021-06-02T21:01:15.240096Z",
     "shell.execute_reply": "2021-06-02T21:01:15.240639Z",
     "shell.execute_reply.started": "2021-06-02T20:58:02.244910Z"
    },
    "papermill": {
     "duration": 0.281337,
     "end_time": "2021-06-02T21:01:15.240812",
     "exception": false,
     "start_time": "2021-06-02T21:01:14.959475",
     "status": "completed"
    },
    "tags": []
   },
   "outputs": [
    {
     "data": {
      "text/plain": [
       "<AxesSubplot:>"
      ]
     },
     "execution_count": 12,
     "metadata": {},
     "output_type": "execute_result"
    },
    {
     "data": {
      "image/png": "[encoded data removed]",
      "text/plain": [
       "<Figure size 1500x1000 with 2 Axes>"
      ]
     },
     "metadata": {},
     "output_type": "display_data"
    }
   ],
   "source": [
    "plt.figure(figsize=(15,10))\n",
    "sns.heatmap(df_comp,cmap=\"magma\")"
   ]
  },
  {
   "cell_type": "markdown",
   "id": "buried-dividend",
   "metadata": {
    "papermill": {
     "duration": 0.049506,
     "end_time": "2021-06-02T21:01:15.339838",
     "exception": false,
     "start_time": "2021-06-02T21:01:15.290332",
     "status": "completed"
    },
    "tags": []
   },
   "source": [
    "<font color=\"blue\">\n",
    "In this heatmap above, we see the relation between the principal components and actual features\n",
    "\n",
    "The ligh color in the heatmap shows strong correlation between the principal components and actual features while dark colors show the opposite or negative correlation.\n",
    "\n",
    "Actually the principal components are the combinations of all these features of the data.\n",
    "\n",
    "After we get the principal components of the data, we can feed them into a machine learning algorithm because we have clear and separated components of the data instead of the complex variables.\n",
    "\n",
    "For this data we do a logistic regression on tranformed_data instead of doing regression with the entire data.\n",
    "\n",
    "Support vector machines can also be a good alternative for this data."
   ]
  },
  {
   "cell_type": "markdown",
   "id": "adjustable-origin",
   "metadata": {
    "papermill": {
     "duration": 0.049444,
     "end_time": "2021-06-02T21:01:15.438900",
     "exception": false,
     "start_time": "2021-06-02T21:01:15.389456",
     "status": "completed"
    },
    "tags": []
   },
   "source": [
    "<font color=\"blue\">\n",
    "After applying PCA, we can implement our machine learning model as follows:"
   ]
  },
  {
   "cell_type": "code",
   "execution_count": 13,
   "id": "critical-stick",
   "metadata": {
    "execution": {
     "iopub.execute_input": "2021-06-02T21:01:15.541634Z",
     "iopub.status.busy": "2021-06-02T21:01:15.540987Z",
     "iopub.status.idle": "2021-06-02T21:01:15.550848Z",
     "shell.execute_reply": "2021-06-02T21:01:15.551405Z",
     "shell.execute_reply.started": "2021-06-02T20:58:02.572109Z"
    },
    "papermill": {
     "duration": 0.062967,
     "end_time": "2021-06-02T21:01:15.551580",
     "exception": false,
     "start_time": "2021-06-02T21:01:15.488613",
     "status": "completed"
    },
    "tags": []
   },
   "outputs": [],
   "source": [
    "from sklearn.linear_model import LogisticRegression\n",
    "model = LogisticRegression()\n",
    "model.fit(X_train,y_train)\n",
    "predictions = model.predict(X_test)"
   ]
  },
  {
   "cell_type": "code",
   "execution_count": 14,
   "id": "according-burden",
   "metadata": {
    "execution": {
     "iopub.execute_input": "2021-06-02T21:01:15.653758Z",
     "iopub.status.busy": "2021-06-02T21:01:15.653157Z",
     "iopub.status.idle": "2021-06-02T21:01:15.666708Z",
     "shell.execute_reply": "2021-06-02T21:01:15.666147Z",
     "shell.execute_reply.started": "2021-06-02T20:58:02.590041Z"
    },
    "papermill": {
     "duration": 0.065358,
     "end_time": "2021-06-02T21:01:15.666852",
     "exception": false,
     "start_time": "2021-06-02T21:01:15.601494",
     "status": "completed"
    },
    "tags": []
   },
   "outputs": [
    {
     "name": "stdout",
     "output_type": "stream",
     "text": [
      "1.0\n",
      "[[14  0  0]\n",
      " [ 0 14  0]\n",
      " [ 0  0  8]]\n",
      "              precision    recall  f1-score   support\n",
      "\n",
      "           1       1.00      1.00      1.00        14\n",
      "           2       1.00      1.00      1.00        14\n",
      "           3       1.00      1.00      1.00         8\n",
      "\n",
      "    accuracy                           1.00        36\n",
      "   macro avg       1.00      1.00      1.00        36\n",
      "weighted avg       1.00      1.00      1.00        36\n",
      "\n"
     ]
    }
   ],
   "source": [
    "from sklearn.metrics import confusion_matrix, classification_report,accuracy_score\n",
    "print(accuracy_score(y_test, predictions))\n",
    "print(confusion_matrix(y_test, predictions))\n",
    "print(classification_report(y_test, predictions))\n",
    "#We have %100 procent accuracy although we have just used the main components of the data"
   ]
  },
  {
   "cell_type": "code",
   "execution_count": 15,
   "id": "statewide-soccer",
   "metadata": {
    "execution": {
     "iopub.execute_input": "2021-06-02T21:01:15.779324Z",
     "iopub.status.busy": "2021-06-02T21:01:15.775818Z",
     "iopub.status.idle": "2021-06-02T21:01:16.169676Z",
     "shell.execute_reply": "2021-06-02T21:01:16.168721Z",
     "shell.execute_reply.started": "2021-06-02T20:58:02.608847Z"
    },
    "papermill": {
     "duration": 0.452542,
     "end_time": "2021-06-02T21:01:16.169807",
     "exception": false,
     "start_time": "2021-06-02T21:01:15.717265",
     "status": "completed"
    },
    "tags": []
   },
   "outputs": [
    {
     "name": "stderr",
     "output_type": "stream",
     "text": [
      "*c* argument looks like a single numeric RGB or RGBA sequence, which should be avoided as value-mapping will have precedence in case its length matches with *x* & *y*.  Please use the *color* keyword-argument or provide a 2D array with a single row if you intend to specify the same RGB or RGBA value for all points.\n",
      "*c* argument looks like a single numeric RGB or RGBA sequence, which should be avoided as value-mapping will have precedence in case its length matches with *x* & *y*.  Please use the *color* keyword-argument or provide a 2D array with a single row if you intend to specify the same RGB or RGBA value for all points.\n",
      "*c* argument looks like a single numeric RGB or RGBA sequence, which should be avoided as value-mapping will have precedence in case its length matches with *x* & *y*.  Please use the *color* keyword-argument or provide a 2D array with a single row if you intend to specify the same RGB or RGBA value for all points.\n"
     ]
    },
    {
     "data": {
      "image/png": "[encoded data removed]",
      "text/plain": [
       "<Figure size 640x480 with 1 Axes>"
      ]
     },
     "metadata": {},
     "output_type": "display_data"
    }
   ],
   "source": [
    "from matplotlib.colors import ListedColormap\n",
    "X_set, y_set = X_train, y_train\n",
    "X1, X2 = np.meshgrid(np.arange(start = X_set[:, 0].min() - 1, stop = X_set[:, 0].max() + 1, step = 0.01),\n",
    "                     np.arange(start = X_set[:, 1].min() - 1, stop = X_set[:, 1].max() + 1, step = 0.01))\n",
    "plt.contourf(X1, X2, model.predict(np.array([X1.ravel(), X2.ravel()]).T).reshape(X1.shape),\n",
    "             alpha = 0.75, cmap = ListedColormap(('red', 'green', 'blue')))\n",
    "plt.xlim(X1.min(), X1.max())\n",
    "plt.ylim(X2.min(), X2.max())\n",
    "for i, j in enumerate(np.unique(y_set)):\n",
    "    plt.scatter(X_set[y_set == j, 0], X_set[y_set == j, 1],\n",
    "                c = ListedColormap(('red', 'green', 'blue'))(i), label = j)\n",
    "plt.title('Logistic Regression (Training set)')\n",
    "plt.xlabel('PC1')\n",
    "plt.ylabel('PC2')\n",
    "plt.legend()\n",
    "plt.show()\n",
    "#This is performance of the algorithm with training set"
   ]
  },
  {
   "cell_type": "code",
   "execution_count": 16,
   "id": "cloudy-leonard",
   "metadata": {
    "execution": {
     "iopub.execute_input": "2021-06-02T21:01:16.280846Z",
     "iopub.status.busy": "2021-06-02T21:01:16.280215Z",
     "iopub.status.idle": "2021-06-02T21:01:16.614958Z",
     "shell.execute_reply": "2021-06-02T21:01:16.615493Z",
     "shell.execute_reply.started": "2021-06-02T20:58:03.071461Z"
    },
    "papermill": {
     "duration": 0.394756,
     "end_time": "2021-06-02T21:01:16.615656",
     "exception": false,
     "start_time": "2021-06-02T21:01:16.220900",
     "status": "completed"
    },
    "tags": []
   },
   "outputs": [
    {
     "name": "stderr",
     "output_type": "stream",
     "text": [
      "*c* argument looks like a single numeric RGB or RGBA sequence, which should be avoided as value-mapping will have precedence in case its length matches with *x* & *y*.  Please use the *color* keyword-argument or provide a 2D array with a single row if you intend to specify the same RGB or RGBA value for all points.\n",
      "*c* argument looks like a single numeric RGB or RGBA sequence, which should be avoided as value-mapping will have precedence in case its length matches with *x* & *y*.  Please use the *color* keyword-argument or provide a 2D array with a single row if you intend to specify the same RGB or RGBA value for all points.\n",
      "*c* argument looks like a single numeric RGB or RGBA sequence, which should be avoided as value-mapping will have precedence in case its length matches with *x* & *y*.  Please use the *color* keyword-argument or provide a 2D array with a single row if you intend to specify the same RGB or RGBA value for all points.\n"
     ]
    },
    {
     "data": {
      "image/png": "[encoded data removed]",
      "text/plain": [
       "<Figure size 640x480 with 1 Axes>"
      ]
     },
     "metadata": {},
     "output_type": "display_data"
    }
   ],
   "source": [
    "from matplotlib.colors import ListedColormap\n",
    "X_set, y_set = X_test, y_test\n",
    "X1, X2 = np.meshgrid(np.arange(start = X_set[:, 0].min() - 1, stop = X_set[:, 0].max() + 1, step = 0.01),\n",
    "                     np.arange(start = X_set[:, 1].min() - 1, stop = X_set[:, 1].max() + 1, step = 0.01))\n",
    "plt.contourf(X1, X2, model.predict(np.array([X1.ravel(), X2.ravel()]).T).reshape(X1.shape),\n",
    "             alpha = 0.75, cmap = ListedColormap(('red', 'green', 'blue')))\n",
    "plt.xlim(X1.min(), X1.max())\n",
    "plt.ylim(X2.min(), X2.max())\n",
    "for i, j in enumerate(np.unique(y_set)):\n",
    "    plt.scatter(X_set[y_set == j, 0], X_set[y_set == j, 1],\n",
    "                c = ListedColormap(('red', 'green', 'blue'))(i), label = j)\n",
    "plt.title('Logistic Regression (Test set)')\n",
    "plt.xlabel('PC1')\n",
    "plt.ylabel('PC2')\n",
    "plt.legend()\n",
    "plt.show()\n",
    "#This is visualization of performance of the algorithm with test set"
   ]
  },
  {
   "cell_type": "markdown",
   "id": "broke-motivation",
   "metadata": {
    "papermill": {
     "duration": 0.052761,
     "end_time": "2021-06-02T21:01:16.720018",
     "exception": false,
     "start_time": "2021-06-02T21:01:16.667257",
     "status": "completed"
    },
    "tags": []
   },
   "source": [
    "<font color=\"blue\">\n",
    "It is obvious that we can get pretty good prediction by using just the two principal components of the data instead of using all of the dataset.\n",
    "\n",
    "PCA can be very useful tool big data with many features."
   ]
  },
  {
   "cell_type": "markdown",
   "id": "hourly-ghost",
   "metadata": {
    "papermill": {
     "duration": 0.052301,
     "end_time": "2021-06-02T21:01:16.825579",
     "exception": false,
     "start_time": "2021-06-02T21:01:16.773278",
     "status": "completed"
    },
    "tags": []
   },
   "source": [
    "## 2. Linear Discriminant Analysis (LDA):"
   ]
  },
  {
   "cell_type": "markdown",
   "id": "turned-trademark",
   "metadata": {
    "papermill": {
     "duration": 0.051468,
     "end_time": "2021-06-02T21:01:16.929853",
     "exception": false,
     "start_time": "2021-06-02T21:01:16.878385",
     "status": "completed"
    },
    "tags": []
   },
   "source": [
    "<font color=\"blue\">\n",
    "The goal is to project a dataset onto a lower-dimensional space with good class-separability in order avoid overfitting (“curse of dimensionality”) and also reduce computational costs.\n",
    "\n",
    "The general LDA approach is very similar to a Principal Component Analysis (for more information about the PCA,but in addition to finding the component axes that maximize the variance of our data (PCA), we are additionally interested in the axes that maximize the separation between multiple classes (LDA).\n",
    "\n",
    "Both Linear Discriminant Analysis (LDA) and Principal Component Analysis (PCA) are linear transformation techniques that are commonly used for dimensionality reduction. PCA can be described as an “unsupervised” algorithm, since it “ignores” class labels and its goal is to find the directions (the so-called principal components) that maximize the variance in a dataset. In contrast to PCA, LDA is “supervised” and computes the directions (“linear discriminants”) that will represent the axes that that maximize the separation between multiple classes."
   ]
  },
  {
   "cell_type": "code",
   "execution_count": 17,
   "id": "textile-paint",
   "metadata": {
    "execution": {
     "iopub.execute_input": "2021-06-02T21:01:17.319263Z",
     "iopub.status.busy": "2021-06-02T21:01:17.318646Z",
     "iopub.status.idle": "2021-06-02T21:01:17.322853Z",
     "shell.execute_reply": "2021-06-02T21:01:17.323211Z",
     "shell.execute_reply.started": "2021-06-02T20:58:03.815688Z"
    },
    "papermill": {
     "duration": 0.046093,
     "end_time": "2021-06-02T21:01:17.323337",
     "exception": false,
     "start_time": "2021-06-02T21:01:17.277244",
     "status": "completed"
    },
    "tags": []
   },
   "outputs": [
    {
     "name": "stdout",
     "output_type": "stream",
     "text": [
      "(142, 13)\n",
      "(36, 13)\n"
     ]
    }
   ],
   "source": [
    "X_train, X_test, y_train,y_test =train_test_split(X,y, test_size=0.2,random_state=42)\n",
    "print(X_train.shape)\n",
    "print(X_test.shape)"
   ]
  },
  {
   "cell_type": "code",
   "execution_count": 18,
   "id": "lesser-prior",
   "metadata": {
    "execution": {
     "iopub.execute_input": "2021-06-02T21:01:17.412657Z",
     "iopub.status.busy": "2021-06-02T21:01:17.412017Z",
     "iopub.status.idle": "2021-06-02T21:01:17.431216Z",
     "shell.execute_reply": "2021-06-02T21:01:17.430576Z",
     "shell.execute_reply.started": "2021-06-02T20:58:03.826263Z"
    },
    "papermill": {
     "duration": 0.071298,
     "end_time": "2021-06-02T21:01:17.431381",
     "exception": false,
     "start_time": "2021-06-02T21:01:17.360083",
     "status": "completed"
    },
    "tags": []
   },
   "outputs": [],
   "source": [
    "from sklearn.discriminant_analysis import LinearDiscriminantAnalysis as LDA\n",
    "lda =LDA(n_components=2) # we select the same number of components\n",
    "X_train = lda.fit_transform(X_train,y_train) # we have to write both X_train and y_train\n",
    "X_test = lda.transform(X_test)"
   ]
  },
  {
   "cell_type": "code",
   "execution_count": 19,
   "id": "brief-picking",
   "metadata": {
    "execution": {
     "iopub.execute_input": "2021-06-02T21:01:17.519604Z",
     "iopub.status.busy": "2021-06-02T21:01:17.518967Z",
     "iopub.status.idle": "2021-06-02T21:01:17.523500Z",
     "shell.execute_reply": "2021-06-02T21:01:17.523027Z",
     "shell.execute_reply.started": "2021-06-02T20:58:03.842478Z"
    },
    "papermill": {
     "duration": 0.04769,
     "end_time": "2021-06-02T21:01:17.523617",
     "exception": false,
     "start_time": "2021-06-02T21:01:17.475927",
     "status": "completed"
    },
    "tags": []
   },
   "outputs": [
    {
     "name": "stdout",
     "output_type": "stream",
     "text": [
      "(142, 2)\n",
      "(36, 2)\n"
     ]
    }
   ],
   "source": [
    "print(X_train.shape)\n",
    "print(X_test.shape)\n"
   ]
  },
  {
   "cell_type": "markdown",
   "id": "better-question",
   "metadata": {
    "papermill": {
     "duration": 0.041304,
     "end_time": "2021-06-02T21:01:17.603332",
     "exception": false,
     "start_time": "2021-06-02T21:01:17.562028",
     "status": "completed"
    },
    "tags": []
   },
   "source": [
    "<font color=\"blue\">\n",
    "Lets apply the same machine learning model"
   ]
  },
  {
   "cell_type": "code",
   "execution_count": 20,
   "id": "careful-education",
   "metadata": {
    "execution": {
     "iopub.execute_input": "2021-06-02T21:01:17.687988Z",
     "iopub.status.busy": "2021-06-02T21:01:17.687339Z",
     "iopub.status.idle": "2021-06-02T21:01:17.697900Z",
     "shell.execute_reply": "2021-06-02T21:01:17.698307Z",
     "shell.execute_reply.started": "2021-06-02T20:58:03.856477Z"
    },
    "papermill": {
     "duration": 0.054341,
     "end_time": "2021-06-02T21:01:17.698437",
     "exception": false,
     "start_time": "2021-06-02T21:01:17.644096",
     "status": "completed"
    },
    "tags": []
   },
   "outputs": [],
   "source": [
    "from sklearn.linear_model import LogisticRegression\n",
    "model = LogisticRegression()\n",
    "model.fit(X_train,y_train)\n",
    "predictions = model.predict(X_test)"
   ]
  },
  {
   "cell_type": "code",
   "execution_count": 21,
   "id": "dutch-equality",
   "metadata": {
    "execution": {
     "iopub.execute_input": "2021-06-02T21:01:17.777051Z",
     "iopub.status.busy": "2021-06-02T21:01:17.776406Z",
     "iopub.status.idle": "2021-06-02T21:01:17.785792Z",
     "shell.execute_reply": "2021-06-02T21:01:17.785216Z",
     "shell.execute_reply.started": "2021-06-02T20:58:03.884684Z"
    },
    "papermill": {
     "duration": 0.049377,
     "end_time": "2021-06-02T21:01:17.785915",
     "exception": false,
     "start_time": "2021-06-02T21:01:17.736538",
     "status": "completed"
    },
    "tags": []
   },
   "outputs": [
    {
     "name": "stdout",
     "output_type": "stream",
     "text": [
      "1.0\n",
      "[[14  0  0]\n",
      " [ 0 14  0]\n",
      " [ 0  0  8]]\n",
      "              precision    recall  f1-score   support\n",
      "\n",
      "           1       1.00      1.00      1.00        14\n",
      "           2       1.00      1.00      1.00        14\n",
      "           3       1.00      1.00      1.00         8\n",
      "\n",
      "    accuracy                           1.00        36\n",
      "   macro avg       1.00      1.00      1.00        36\n",
      "weighted avg       1.00      1.00      1.00        36\n",
      "\n"
     ]
    }
   ],
   "source": [
    "from sklearn.metrics import confusion_matrix, classification_report,accuracy_score\n",
    "print(accuracy_score(y_test, predictions))\n",
    "print(confusion_matrix(y_test, predictions))\n",
    "print(classification_report(y_test, predictions))"
   ]
  },
  {
   "cell_type": "markdown",
   "id": "attempted-cradle",
   "metadata": {
    "papermill": {
     "duration": 0.038115,
     "end_time": "2021-06-02T21:01:17.862156",
     "exception": false,
     "start_time": "2021-06-02T21:01:17.824041",
     "status": "completed"
    },
    "tags": []
   },
   "source": [
    "<font color=\"blue\">\n",
    "We get %100 accuracy when we apply  LinearDiscriminantAnalysis(LDA)"
   ]
  },
  {
   "cell_type": "code",
   "execution_count": 22,
   "id": "painted-calendar",
   "metadata": {
    "execution": {
     "iopub.execute_input": "2021-06-02T21:01:17.940231Z",
     "iopub.status.busy": "2021-06-02T21:01:17.939754Z",
     "iopub.status.idle": "2021-06-02T21:01:18.320602Z",
     "shell.execute_reply": "2021-06-02T21:01:18.321080Z",
     "shell.execute_reply.started": "2021-06-02T20:58:03.900203Z"
    },
    "papermill": {
     "duration": 0.421169,
     "end_time": "2021-06-02T21:01:18.321266",
     "exception": false,
     "start_time": "2021-06-02T21:01:17.900097",
     "status": "completed"
    },
    "tags": []
   },
   "outputs": [
    {
     "name": "stderr",
     "output_type": "stream",
     "text": [
      "*c* argument looks like a single numeric RGB or RGBA sequence, which should be avoided as value-mapping will have precedence in case its length matches with *x* & *y*.  Please use the *color* keyword-argument or provide a 2D array with a single row if you intend to specify the same RGB or RGBA value for all points.\n",
      "*c* argument looks like a single numeric RGB or RGBA sequence, which should be avoided as value-mapping will have precedence in case its length matches with *x* & *y*.  Please use the *color* keyword-argument or provide a 2D array with a single row if you intend to specify the same RGB or RGBA value for all points.\n",
      "*c* argument looks like a single numeric RGB or RGBA sequence, which should be avoided as value-mapping will have precedence in case its length matches with *x* & *y*.  Please use the *color* keyword-argument or provide a 2D array with a single row if you intend to specify the same RGB or RGBA value for all points.\n"
     ]
    },
    {
     "data": {
      "image/png": "[encoded data removed]",
      "text/plain": [
       "<Figure size 640x480 with 1 Axes>"
      ]
     },
     "metadata": {},
     "output_type": "display_data"
    }
   ],
   "source": [
    "from matplotlib.colors import ListedColormap\n",
    "X_set, y_set = X_train, y_train\n",
    "X1, X2 = np.meshgrid(np.arange(start = X_set[:, 0].min() - 1, stop = X_set[:, 0].max() + 1, step = 0.01),\n",
    "                     np.arange(start = X_set[:, 1].min() - 1, stop = X_set[:, 1].max() + 1, step = 0.01))\n",
    "plt.contourf(X1, X2, model.predict(np.array([X1.ravel(), X2.ravel()]).T).reshape(X1.shape),\n",
    "             alpha = 0.75, cmap = ListedColormap(('cyan', 'purple', 'white')))\n",
    "plt.xlim(X1.min(), X1.max())\n",
    "plt.ylim(X2.min(), X2.max())\n",
    "for i, j in enumerate(np.unique(y_set)):\n",
    "    plt.scatter(X_set[y_set == j, 0], X_set[y_set == j, 1],\n",
    "                c = ListedColormap(('cyan', 'purple', 'white'))(i), label = j)\n",
    "plt.title('Logistic Regression (Training set)')\n",
    "plt.xlabel('LD1')\n",
    "plt.ylabel('LD2')\n",
    "plt.legend()\n",
    "plt.show()\n"
   ]
  },
  {
   "cell_type": "markdown",
   "id": "conservative-headline",
   "metadata": {
    "papermill": {
     "duration": 0.056516,
     "end_time": "2021-06-02T21:01:18.435024",
     "exception": false,
     "start_time": "2021-06-02T21:01:18.378508",
     "status": "completed"
    },
    "tags": []
   },
   "source": [
    "<font color=\"blue\">\n",
    "LDA outperforms over the PCA when it comes to the performance in the training set, but they have the accuracy in the test set."
   ]
  },
  {
   "cell_type": "code",
   "execution_count": 23,
   "id": "canadian-education",
   "metadata": {
    "execution": {
     "iopub.execute_input": "2021-06-02T21:01:18.557933Z",
     "iopub.status.busy": "2021-06-02T21:01:18.557281Z",
     "iopub.status.idle": "2021-06-02T21:01:18.881026Z",
     "shell.execute_reply": "2021-06-02T21:01:18.880350Z",
     "shell.execute_reply.started": "2021-06-02T20:58:04.413164Z"
    },
    "papermill": {
     "duration": 0.388722,
     "end_time": "2021-06-02T21:01:18.881203",
     "exception": false,
     "start_time": "2021-06-02T21:01:18.492481",
     "status": "completed"
    },
    "tags": []
   },
   "outputs": [
    {
     "name": "stderr",
     "output_type": "stream",
     "text": [
      "*c* argument looks like a single numeric RGB or RGBA sequence, which should be avoided as value-mapping will have precedence in case its length matches with *x* & *y*.  Please use the *color* keyword-argument or provide a 2D array with a single row if you intend to specify the same RGB or RGBA value for all points.\n",
      "*c* argument looks like a single numeric RGB or RGBA sequence, which should be avoided as value-mapping will have precedence in case its length matches with *x* & *y*.  Please use the *color* keyword-argument or provide a 2D array with a single row if you intend to specify the same RGB or RGBA value for all points.\n",
      "*c* argument looks like a single numeric RGB or RGBA sequence, which should be avoided as value-mapping will have precedence in case its length matches with *x* & *y*.  Please use the *color* keyword-argument or provide a 2D array with a single row if you intend to specify the same RGB or RGBA value for all points.\n"
     ]
    },
    {
     "data": {
      "image/png": "[encoded data removed]",
      "text/plain": [
       "<Figure size 640x480 with 1 Axes>"
      ]
     },
     "metadata": {},
     "output_type": "display_data"
    }
   ],
   "source": [
    "from matplotlib.colors import ListedColormap\n",
    "X_set, y_set = X_test, y_test\n",
    "X1, X2 = np.meshgrid(np.arange(start = X_set[:, 0].min() - 1, stop = X_set[:, 0].max() + 1, step = 0.01),\n",
    "                     np.arange(start = X_set[:, 1].min() - 1, stop = X_set[:, 1].max() + 1, step = 0.01))\n",
    "plt.contourf(X1, X2, model.predict(np.array([X1.ravel(), X2.ravel()]).T).reshape(X1.shape),\n",
    "             alpha = 0.75, cmap = ListedColormap(('red', 'green', 'blue')))\n",
    "plt.xlim(X1.min(), X1.max())\n",
    "plt.ylim(X2.min(), X2.max())\n",
    "for i, j in enumerate(np.unique(y_set)):\n",
    "    plt.scatter(X_set[y_set == j, 0], X_set[y_set == j, 1],\n",
    "                c = ListedColormap(('red', 'green', 'blue'))(i), label = j)\n",
    "plt.title('Logistic Regression (Test set)')\n",
    "plt.xlabel('LD1')\n",
    "plt.ylabel('LD2')\n",
    "plt.legend()\n",
    "plt.show()"
   ]
  }
 ],
 "metadata": {
  "kernelspec": {
   "display_name": "Python 3 (ipykernel)",
   "language": "python",
   "name": "python3"
  },
  "language_info": {
   "codemirror_mode": {
    "name": "ipython",
    "version": 3
   },
   "file_extension": ".py",
   "mimetype": "text/x-python",
   "name": "python",
   "nbconvert_exporter": "python",
   "pygments_lexer": "ipython3",
   "version": "3.9.13"
  },
  "papermill": {
   "default_parameters": {},
   "duration": 17.866651,
   "end_time": "2021-06-02T21:01:22.874082",
   "environment_variables": {},
   "exception": null,
   "input_path": "__notebook__.ipynb",
   "output_path": "__notebook__.ipynb",
   "parameters": {},
   "start_time": "2021-06-02T21:01:05.007431",
   "version": "2.3.3"
  }
 },
 "nbformat": 4,
 "nbformat_minor": 5
}
