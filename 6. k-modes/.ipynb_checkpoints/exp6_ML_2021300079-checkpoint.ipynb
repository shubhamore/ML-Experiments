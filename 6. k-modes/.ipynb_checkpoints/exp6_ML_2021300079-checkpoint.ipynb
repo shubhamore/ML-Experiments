{
 "cells": [
  {
   "cell_type": "markdown",
   "id": "b50caf4f",
   "metadata": {},
   "source": [
    "K-modes clustering is an extension of the well-known K-means clustering algorithm, which is primarily used for categorical data. While K-means operates effectively with continuous numerical data, K-modes is tailored to handle categorical data by measuring the dissimilarity between data points using a matching or mode-based metric.\n",
    "\n",
    "Here's a theoretical overview of K-modes clustering:\n",
    "\n",
    "1. **Objective**:\n",
    "   - The primary objective of K-modes clustering is to partition a dataset into K clusters where each data point belongs to the cluster with the nearest mode, i.e., the most frequently occurring value in its cluster.\n",
    "\n",
    "2. **Algorithm Overview**:\n",
    "   - Initialize K modes randomly or using a predefined strategy.\n",
    "   - Assign each data point to the nearest mode based on a mode-based distance metric.\n",
    "   - Update the modes by computing the modes of the categorical attributes within each cluster.\n",
    "   - Repeat the assignment and mode updating steps until convergence or until a specified number of iterations is reached.\n",
    "\n",
    "3. **Distance Metric**:\n",
    "   - Unlike K-means, which typically uses Euclidean distance, K-modes employs a mode-based distance metric.\n",
    "   - The mode-based distance between two data points is computed as the number of mismatched categorical values between them.\n",
    "   - Various distance measures such as simple matching coefficient, Jaccard coefficient, or Hamming distance can be used to quantify dissimilarity.\n",
    "\n",
    "4. **Initialization**:\n",
    "   - Initialization of modes can significantly impact the convergence and quality of clustering.\n",
    "   - Strategies for initialization include random selection, K-means initialization followed by mode computation, or using domain-specific knowledge to initialize modes.\n",
    "\n",
    "5. **Cluster Assignment**:\n",
    "   - Assign each data point to the cluster with the nearest mode based on the mode-based distance metric.\n",
    "   - This step is analogous to the assignment step in K-means clustering but uses a different distance metric suitable for categorical data.\n",
    "\n",
    "6. **Mode Update**:\n",
    "   - After assigning data points to clusters, update the modes of each cluster.\n",
    "   - The mode of a cluster is the most frequent value for each categorical attribute within that cluster.\n",
    "   - This step ensures that the modes accurately represent the characteristic values of the data points in each cluster.\n",
    "\n",
    "7. **Convergence**:\n",
    "   - K-modes clustering converges when the cluster assignments and modes no longer change significantly between iterations or when a predefined convergence criterion is met.\n",
    "   - Convergence is typically assessed based on the change in cluster assignments or mode values between iterations.\n",
    "\n",
    "8. **Number of Clusters (K)**:\n",
    "   - Determining the optimal number of clusters (K) is a critical task in clustering analysis.\n",
    "   - Techniques such as the elbow method, silhouette score, or domain-specific knowledge can be used to select an appropriate value for K.\n",
    "\n",
    "9. **Scalability and Performance**:\n",
    "   - The computational complexity of K-modes clustering depends on the number of data points, dimensions, and the number of clusters.\n",
    "   - As with K-means, the algorithm may suffer from scalability issues with large datasets, high dimensionality, or a large number of clusters.\n",
    "\n",
    "10. **Evaluation**:\n",
    "    - Assessing the quality of clustering results is essential.\n",
    "    - Evaluation metrics such as silhouette score, purity, or adjusted Rand index can be used to quantify the cohesion and separation of clusters."
   ]
  },
  {
   "cell_type": "markdown",
   "id": "37d14414",
   "metadata": {
    "papermill": {
     "duration": 0.027895,
     "end_time": "2021-09-14T12:27:02.834646",
     "exception": false,
     "start_time": "2021-09-14T12:27:02.806751",
     "status": "completed"
    },
    "tags": []
   },
   "source": [
    "In this notebook, I'll try to cluster mushroom data in two classes so that we can figure out which ones are poisonous and which ones are edible. \n",
    "Link of Dataset: https://www.kaggle.com/datasets/uciml/mushroom-classification?resource=download\n",
    "\n",
    "We'll go through data, we will perform pre-processing on it and then we will use our powerful clustering methods to help us detect delicious, friendly mushrooms from the killer ones.\n",
    "\n",
    "First, let's start by Importing libraries:"
   ]
  },
  {
   "cell_type": "markdown",
   "id": "fd383ceb",
   "metadata": {
    "papermill": {
     "duration": 0.028438,
     "end_time": "2021-09-14T12:27:02.892426",
     "exception": false,
     "start_time": "2021-09-14T12:27:02.863988",
     "status": "completed"
    },
    "tags": []
   },
   "source": [
    "# Libraries\n",
    "\n",
    "first we should add every library we want to use in the future. I've added comments so you'll know why I used every library. "
   ]
  },
  {
   "cell_type": "code",
   "execution_count": 1,
   "id": "43d253bc",
   "metadata": {
    "execution": {
     "iopub.execute_input": "2021-09-14T12:27:02.989176Z",
     "iopub.status.busy": "2021-09-14T12:27:02.967588Z",
     "iopub.status.idle": "2021-09-14T12:27:18.349032Z",
     "shell.execute_reply": "2021-09-14T12:27:18.348313Z",
     "shell.execute_reply.started": "2021-08-24T19:26:37.734565Z"
    },
    "papermill": {
     "duration": 15.429855,
     "end_time": "2021-09-14T12:27:18.349245",
     "exception": false,
     "start_time": "2021-09-14T12:27:02.919390",
     "status": "completed"
    },
    "tags": []
   },
   "outputs": [],
   "source": [
    "# !pip install --upgrade scikit-learn"
   ]
  },
  {
   "cell_type": "code",
   "execution_count": 2,
   "id": "0ff451d1",
   "metadata": {
    "execution": {
     "iopub.execute_input": "2021-09-14T12:27:18.436233Z",
     "iopub.status.busy": "2021-09-14T12:27:18.435472Z",
     "iopub.status.idle": "2021-09-14T12:27:19.661967Z",
     "shell.execute_reply": "2021-09-14T12:27:19.661307Z",
     "shell.execute_reply.started": "2021-08-24T19:26:45.546985Z"
    },
    "papermill": {
     "duration": 1.272521,
     "end_time": "2021-09-14T12:27:19.662150",
     "exception": false,
     "start_time": "2021-09-14T12:27:18.389629",
     "status": "completed"
    },
    "tags": []
   },
   "outputs": [],
   "source": [
    "# Essentials \n",
    "import pandas as pd\n",
    "import numpy as np\n",
    "import matplotlib.pyplot as plt\n",
    "import seaborn as sns\n",
    "\n",
    "# Rand Index\n",
    "from sklearn.metrics.cluster import adjusted_rand_score\n",
    "from sklearn.metrics.cluster import rand_score\n",
    "\n",
    "# Encode labels\n",
    "from sklearn import preprocessing\n",
    "\n",
    "# Confusion Matrix\n",
    "from sklearn.metrics import confusion_matrix"
   ]
  },
  {
   "cell_type": "code",
   "execution_count": 3,
   "id": "6d02a657",
   "metadata": {
    "execution": {
     "iopub.execute_input": "2021-09-14T12:27:19.750090Z",
     "iopub.status.busy": "2021-09-14T12:27:19.749137Z",
     "iopub.status.idle": "2021-09-14T12:27:19.750938Z",
     "shell.execute_reply": "2021-09-14T12:27:19.751576Z",
     "shell.execute_reply.started": "2021-08-24T19:26:45.554168Z"
    },
    "papermill": {
     "duration": 0.048432,
     "end_time": "2021-09-14T12:27:19.751814",
     "exception": false,
     "start_time": "2021-09-14T12:27:19.703382",
     "status": "completed"
    },
    "tags": []
   },
   "outputs": [],
   "source": [
    "# To make the code reproducable\n",
    "np.random.seed(42)"
   ]
  },
  {
   "cell_type": "markdown",
   "id": "7551b40a",
   "metadata": {
    "papermill": {
     "duration": 0.039677,
     "end_time": "2021-09-14T12:27:19.833185",
     "exception": false,
     "start_time": "2021-09-14T12:27:19.793508",
     "status": "completed"
    },
    "tags": []
   },
   "source": [
    "# Load the Data"
   ]
  },
  {
   "cell_type": "code",
   "execution_count": 4,
   "id": "f30c15aa",
   "metadata": {
    "execution": {
     "iopub.execute_input": "2021-09-14T12:27:19.918970Z",
     "iopub.status.busy": "2021-09-14T12:27:19.918186Z",
     "iopub.status.idle": "2021-09-14T12:27:20.011475Z",
     "shell.execute_reply": "2021-09-14T12:27:20.012023Z",
     "shell.execute_reply.started": "2021-08-24T19:26:45.574918Z"
    },
    "papermill": {
     "duration": 0.138835,
     "end_time": "2021-09-14T12:27:20.012233",
     "exception": false,
     "start_time": "2021-09-14T12:27:19.873398",
     "status": "completed"
    },
    "tags": []
   },
   "outputs": [
    {
     "data": {
      "text/html": [
       "<div>\n",
       "<style scoped>\n",
       "    .dataframe tbody tr th:only-of-type {\n",
       "        vertical-align: middle;\n",
       "    }\n",
       "\n",
       "    .dataframe tbody tr th {\n",
       "        vertical-align: top;\n",
       "    }\n",
       "\n",
       "    .dataframe thead th {\n",
       "        text-align: right;\n",
       "    }\n",
       "</style>\n",
       "<table border=\"1\" class=\"dataframe\">\n",
       "  <thead>\n",
       "    <tr style=\"text-align: right;\">\n",
       "      <th></th>\n",
       "      <th>class</th>\n",
       "      <th>cap-shape</th>\n",
       "      <th>cap-surface</th>\n",
       "      <th>cap-color</th>\n",
       "      <th>bruises</th>\n",
       "      <th>odor</th>\n",
       "      <th>gill-attachment</th>\n",
       "      <th>gill-spacing</th>\n",
       "      <th>gill-size</th>\n",
       "      <th>gill-color</th>\n",
       "      <th>...</th>\n",
       "      <th>stalk-surface-below-ring</th>\n",
       "      <th>stalk-color-above-ring</th>\n",
       "      <th>stalk-color-below-ring</th>\n",
       "      <th>veil-type</th>\n",
       "      <th>veil-color</th>\n",
       "      <th>ring-number</th>\n",
       "      <th>ring-type</th>\n",
       "      <th>spore-print-color</th>\n",
       "      <th>population</th>\n",
       "      <th>habitat</th>\n",
       "    </tr>\n",
       "  </thead>\n",
       "  <tbody>\n",
       "    <tr>\n",
       "      <th>0</th>\n",
       "      <td>p</td>\n",
       "      <td>x</td>\n",
       "      <td>s</td>\n",
       "      <td>n</td>\n",
       "      <td>t</td>\n",
       "      <td>p</td>\n",
       "      <td>f</td>\n",
       "      <td>c</td>\n",
       "      <td>n</td>\n",
       "      <td>k</td>\n",
       "      <td>...</td>\n",
       "      <td>s</td>\n",
       "      <td>w</td>\n",
       "      <td>w</td>\n",
       "      <td>p</td>\n",
       "      <td>w</td>\n",
       "      <td>o</td>\n",
       "      <td>p</td>\n",
       "      <td>k</td>\n",
       "      <td>s</td>\n",
       "      <td>u</td>\n",
       "    </tr>\n",
       "    <tr>\n",
       "      <th>1</th>\n",
       "      <td>e</td>\n",
       "      <td>x</td>\n",
       "      <td>s</td>\n",
       "      <td>y</td>\n",
       "      <td>t</td>\n",
       "      <td>a</td>\n",
       "      <td>f</td>\n",
       "      <td>c</td>\n",
       "      <td>b</td>\n",
       "      <td>k</td>\n",
       "      <td>...</td>\n",
       "      <td>s</td>\n",
       "      <td>w</td>\n",
       "      <td>w</td>\n",
       "      <td>p</td>\n",
       "      <td>w</td>\n",
       "      <td>o</td>\n",
       "      <td>p</td>\n",
       "      <td>n</td>\n",
       "      <td>n</td>\n",
       "      <td>g</td>\n",
       "    </tr>\n",
       "    <tr>\n",
       "      <th>2</th>\n",
       "      <td>e</td>\n",
       "      <td>b</td>\n",
       "      <td>s</td>\n",
       "      <td>w</td>\n",
       "      <td>t</td>\n",
       "      <td>l</td>\n",
       "      <td>f</td>\n",
       "      <td>c</td>\n",
       "      <td>b</td>\n",
       "      <td>n</td>\n",
       "      <td>...</td>\n",
       "      <td>s</td>\n",
       "      <td>w</td>\n",
       "      <td>w</td>\n",
       "      <td>p</td>\n",
       "      <td>w</td>\n",
       "      <td>o</td>\n",
       "      <td>p</td>\n",
       "      <td>n</td>\n",
       "      <td>n</td>\n",
       "      <td>m</td>\n",
       "    </tr>\n",
       "    <tr>\n",
       "      <th>3</th>\n",
       "      <td>p</td>\n",
       "      <td>x</td>\n",
       "      <td>y</td>\n",
       "      <td>w</td>\n",
       "      <td>t</td>\n",
       "      <td>p</td>\n",
       "      <td>f</td>\n",
       "      <td>c</td>\n",
       "      <td>n</td>\n",
       "      <td>n</td>\n",
       "      <td>...</td>\n",
       "      <td>s</td>\n",
       "      <td>w</td>\n",
       "      <td>w</td>\n",
       "      <td>p</td>\n",
       "      <td>w</td>\n",
       "      <td>o</td>\n",
       "      <td>p</td>\n",
       "      <td>k</td>\n",
       "      <td>s</td>\n",
       "      <td>u</td>\n",
       "    </tr>\n",
       "    <tr>\n",
       "      <th>4</th>\n",
       "      <td>e</td>\n",
       "      <td>x</td>\n",
       "      <td>s</td>\n",
       "      <td>g</td>\n",
       "      <td>f</td>\n",
       "      <td>n</td>\n",
       "      <td>f</td>\n",
       "      <td>w</td>\n",
       "      <td>b</td>\n",
       "      <td>k</td>\n",
       "      <td>...</td>\n",
       "      <td>s</td>\n",
       "      <td>w</td>\n",
       "      <td>w</td>\n",
       "      <td>p</td>\n",
       "      <td>w</td>\n",
       "      <td>o</td>\n",
       "      <td>e</td>\n",
       "      <td>n</td>\n",
       "      <td>a</td>\n",
       "      <td>g</td>\n",
       "    </tr>\n",
       "  </tbody>\n",
       "</table>\n",
       "<p>5 rows × 23 columns</p>\n",
       "</div>"
      ],
      "text/plain": [
       "  class cap-shape cap-surface cap-color bruises odor gill-attachment  \\\n",
       "0     p         x           s         n       t    p               f   \n",
       "1     e         x           s         y       t    a               f   \n",
       "2     e         b           s         w       t    l               f   \n",
       "3     p         x           y         w       t    p               f   \n",
       "4     e         x           s         g       f    n               f   \n",
       "\n",
       "  gill-spacing gill-size gill-color  ... stalk-surface-below-ring  \\\n",
       "0            c         n          k  ...                        s   \n",
       "1            c         b          k  ...                        s   \n",
       "2            c         b          n  ...                        s   \n",
       "3            c         n          n  ...                        s   \n",
       "4            w         b          k  ...                        s   \n",
       "\n",
       "  stalk-color-above-ring stalk-color-below-ring veil-type veil-color  \\\n",
       "0                      w                      w         p          w   \n",
       "1                      w                      w         p          w   \n",
       "2                      w                      w         p          w   \n",
       "3                      w                      w         p          w   \n",
       "4                      w                      w         p          w   \n",
       "\n",
       "  ring-number ring-type spore-print-color population habitat  \n",
       "0           o         p                 k          s       u  \n",
       "1           o         p                 n          n       g  \n",
       "2           o         p                 n          n       m  \n",
       "3           o         p                 k          s       u  \n",
       "4           o         e                 n          a       g  \n",
       "\n",
       "[5 rows x 23 columns]"
      ]
     },
     "execution_count": 4,
     "metadata": {},
     "output_type": "execute_result"
    }
   ],
   "source": [
    "mushrooms = pd.read_csv(\"./mushrooms.csv\")\n",
    "mushrooms.head()"
   ]
  },
  {
   "cell_type": "markdown",
   "id": "4954bd38",
   "metadata": {
    "papermill": {
     "duration": 0.039918,
     "end_time": "2021-09-14T12:27:20.093139",
     "exception": false,
     "start_time": "2021-09-14T12:27:20.053221",
     "status": "completed"
    },
    "tags": []
   },
   "source": [
    "We want to _Cluster_ our data. clustering is an _unsupervised_ task. so, before we do anything, we mush remove the target (`class`) column. we won't look at our targets until we have finished clustering; so we can evaluate our model."
   ]
  },
  {
   "cell_type": "code",
   "execution_count": 5,
   "id": "d0816862",
   "metadata": {
    "execution": {
     "iopub.execute_input": "2021-09-14T12:27:20.187538Z",
     "iopub.status.busy": "2021-09-14T12:27:20.186384Z",
     "iopub.status.idle": "2021-09-14T12:27:20.216127Z",
     "shell.execute_reply": "2021-09-14T12:27:20.215386Z",
     "shell.execute_reply.started": "2021-08-24T19:26:45.636584Z"
    },
    "papermill": {
     "duration": 0.081934,
     "end_time": "2021-09-14T12:27:20.216297",
     "exception": false,
     "start_time": "2021-09-14T12:27:20.134363",
     "status": "completed"
    },
    "tags": []
   },
   "outputs": [
    {
     "data": {
      "text/html": [
       "<div>\n",
       "<style scoped>\n",
       "    .dataframe tbody tr th:only-of-type {\n",
       "        vertical-align: middle;\n",
       "    }\n",
       "\n",
       "    .dataframe tbody tr th {\n",
       "        vertical-align: top;\n",
       "    }\n",
       "\n",
       "    .dataframe thead th {\n",
       "        text-align: right;\n",
       "    }\n",
       "</style>\n",
       "<table border=\"1\" class=\"dataframe\">\n",
       "  <thead>\n",
       "    <tr style=\"text-align: right;\">\n",
       "      <th></th>\n",
       "      <th>cap-shape</th>\n",
       "      <th>cap-surface</th>\n",
       "      <th>cap-color</th>\n",
       "      <th>bruises</th>\n",
       "      <th>odor</th>\n",
       "      <th>gill-attachment</th>\n",
       "      <th>gill-spacing</th>\n",
       "      <th>gill-size</th>\n",
       "      <th>gill-color</th>\n",
       "      <th>stalk-shape</th>\n",
       "      <th>...</th>\n",
       "      <th>stalk-surface-below-ring</th>\n",
       "      <th>stalk-color-above-ring</th>\n",
       "      <th>stalk-color-below-ring</th>\n",
       "      <th>veil-type</th>\n",
       "      <th>veil-color</th>\n",
       "      <th>ring-number</th>\n",
       "      <th>ring-type</th>\n",
       "      <th>spore-print-color</th>\n",
       "      <th>population</th>\n",
       "      <th>habitat</th>\n",
       "    </tr>\n",
       "  </thead>\n",
       "  <tbody>\n",
       "    <tr>\n",
       "      <th>0</th>\n",
       "      <td>x</td>\n",
       "      <td>s</td>\n",
       "      <td>n</td>\n",
       "      <td>t</td>\n",
       "      <td>p</td>\n",
       "      <td>f</td>\n",
       "      <td>c</td>\n",
       "      <td>n</td>\n",
       "      <td>k</td>\n",
       "      <td>e</td>\n",
       "      <td>...</td>\n",
       "      <td>s</td>\n",
       "      <td>w</td>\n",
       "      <td>w</td>\n",
       "      <td>p</td>\n",
       "      <td>w</td>\n",
       "      <td>o</td>\n",
       "      <td>p</td>\n",
       "      <td>k</td>\n",
       "      <td>s</td>\n",
       "      <td>u</td>\n",
       "    </tr>\n",
       "    <tr>\n",
       "      <th>1</th>\n",
       "      <td>x</td>\n",
       "      <td>s</td>\n",
       "      <td>y</td>\n",
       "      <td>t</td>\n",
       "      <td>a</td>\n",
       "      <td>f</td>\n",
       "      <td>c</td>\n",
       "      <td>b</td>\n",
       "      <td>k</td>\n",
       "      <td>e</td>\n",
       "      <td>...</td>\n",
       "      <td>s</td>\n",
       "      <td>w</td>\n",
       "      <td>w</td>\n",
       "      <td>p</td>\n",
       "      <td>w</td>\n",
       "      <td>o</td>\n",
       "      <td>p</td>\n",
       "      <td>n</td>\n",
       "      <td>n</td>\n",
       "      <td>g</td>\n",
       "    </tr>\n",
       "    <tr>\n",
       "      <th>2</th>\n",
       "      <td>b</td>\n",
       "      <td>s</td>\n",
       "      <td>w</td>\n",
       "      <td>t</td>\n",
       "      <td>l</td>\n",
       "      <td>f</td>\n",
       "      <td>c</td>\n",
       "      <td>b</td>\n",
       "      <td>n</td>\n",
       "      <td>e</td>\n",
       "      <td>...</td>\n",
       "      <td>s</td>\n",
       "      <td>w</td>\n",
       "      <td>w</td>\n",
       "      <td>p</td>\n",
       "      <td>w</td>\n",
       "      <td>o</td>\n",
       "      <td>p</td>\n",
       "      <td>n</td>\n",
       "      <td>n</td>\n",
       "      <td>m</td>\n",
       "    </tr>\n",
       "    <tr>\n",
       "      <th>3</th>\n",
       "      <td>x</td>\n",
       "      <td>y</td>\n",
       "      <td>w</td>\n",
       "      <td>t</td>\n",
       "      <td>p</td>\n",
       "      <td>f</td>\n",
       "      <td>c</td>\n",
       "      <td>n</td>\n",
       "      <td>n</td>\n",
       "      <td>e</td>\n",
       "      <td>...</td>\n",
       "      <td>s</td>\n",
       "      <td>w</td>\n",
       "      <td>w</td>\n",
       "      <td>p</td>\n",
       "      <td>w</td>\n",
       "      <td>o</td>\n",
       "      <td>p</td>\n",
       "      <td>k</td>\n",
       "      <td>s</td>\n",
       "      <td>u</td>\n",
       "    </tr>\n",
       "    <tr>\n",
       "      <th>4</th>\n",
       "      <td>x</td>\n",
       "      <td>s</td>\n",
       "      <td>g</td>\n",
       "      <td>f</td>\n",
       "      <td>n</td>\n",
       "      <td>f</td>\n",
       "      <td>w</td>\n",
       "      <td>b</td>\n",
       "      <td>k</td>\n",
       "      <td>t</td>\n",
       "      <td>...</td>\n",
       "      <td>s</td>\n",
       "      <td>w</td>\n",
       "      <td>w</td>\n",
       "      <td>p</td>\n",
       "      <td>w</td>\n",
       "      <td>o</td>\n",
       "      <td>e</td>\n",
       "      <td>n</td>\n",
       "      <td>a</td>\n",
       "      <td>g</td>\n",
       "    </tr>\n",
       "  </tbody>\n",
       "</table>\n",
       "<p>5 rows × 22 columns</p>\n",
       "</div>"
      ],
      "text/plain": [
       "  cap-shape cap-surface cap-color bruises odor gill-attachment gill-spacing  \\\n",
       "0         x           s         n       t    p               f            c   \n",
       "1         x           s         y       t    a               f            c   \n",
       "2         b           s         w       t    l               f            c   \n",
       "3         x           y         w       t    p               f            c   \n",
       "4         x           s         g       f    n               f            w   \n",
       "\n",
       "  gill-size gill-color stalk-shape  ... stalk-surface-below-ring  \\\n",
       "0         n          k           e  ...                        s   \n",
       "1         b          k           e  ...                        s   \n",
       "2         b          n           e  ...                        s   \n",
       "3         n          n           e  ...                        s   \n",
       "4         b          k           t  ...                        s   \n",
       "\n",
       "  stalk-color-above-ring stalk-color-below-ring veil-type veil-color  \\\n",
       "0                      w                      w         p          w   \n",
       "1                      w                      w         p          w   \n",
       "2                      w                      w         p          w   \n",
       "3                      w                      w         p          w   \n",
       "4                      w                      w         p          w   \n",
       "\n",
       "  ring-number ring-type spore-print-color population habitat  \n",
       "0           o         p                 k          s       u  \n",
       "1           o         p                 n          n       g  \n",
       "2           o         p                 n          n       m  \n",
       "3           o         p                 k          s       u  \n",
       "4           o         e                 n          a       g  \n",
       "\n",
       "[5 rows x 22 columns]"
      ]
     },
     "execution_count": 5,
     "metadata": {},
     "output_type": "execute_result"
    }
   ],
   "source": [
    "target = mushrooms[['class']]\n",
    "see_no_evil = mushrooms.drop(['class'], axis=1)\n",
    "see_no_evil.head()"
   ]
  },
  {
   "cell_type": "markdown",
   "id": "52d2735d",
   "metadata": {
    "papermill": {
     "duration": 0.040609,
     "end_time": "2021-09-14T12:27:20.297870",
     "exception": false,
     "start_time": "2021-09-14T12:27:20.257261",
     "status": "completed"
    },
    "tags": []
   },
   "source": [
    "# Take a look at our data\n",
    "with target values gone, it is now safe to investigate the data. first, let's take a look at the description of each column:\n",
    "* cap-shape: bell=b,conical=c,convex=x,flat=f, knobbed=k,sunken=s\n",
    "* cap-surface: fibrous=f,grooves=g,scaly=y,smooth=s\n",
    "* cap-color: brown=n,buff=b,cinnamon=c,gray=g,green=r,pink=p,purple=u,red=e,white=w,yellow=y\n",
    "* bruises: bruises=t,no=f\n",
    "* odor: almond=a,anise=l,creosote=c,fishy=y,foul=f,musty=m,none=n,pungent=p,spicy=s\n",
    "* gill-attachment: attached=a,descending=d,free=f,notched=n\n",
    "* gill-spacing: close=c,crowded=w,distant=d\n",
    "* gill-size: broad=b,narrow=n\n",
    "* gill-color: black=k,brown=n,buff=b,chocolate=h,gray=g, green=r,orange=o,pink=p,purple=u,red=e,white=w,yellow=y\n",
    "* stalk-shape: enlarging=e,tapering=t\n",
    "* stalk-root: bulbous=b,club=c,cup=u,equal=e,rhizomorphs=z,rooted=r,missing=?\n",
    "* stalk-surface-above-ring: fibrous=f,scaly=y,silky=k,smooth=s\n",
    "* stalk-surface-below-ring: fibrous=f,scaly=y,silky=k,smooth=s\n",
    "* stalk-color-above-ring: brown=n,buff=b,cinnamon=c,gray=g,orange=o,pink=p,red=e,white=w,yellow=y\n",
    "* stalk-color-below-ring: brown=n,buff=b,cinnamon=c,gray=g,orange=o,pink=p,red=e,white=w,yellow=y\n",
    "* veil-type: partial=p,universal=u\n",
    "* veil-color: brown=n,orange=o,white=w,yellow=y\n",
    "* ring-number: none=n,one=o,two=t\n",
    "* ring-type: cobwebby=c,evanescent=e,flaring=f,large=l,none=n,pendant=p,sheathing=s,zone=z\n",
    "* spore-print-color: black=k,brown=n,buff=b,chocolate=h,green=r,orange=o,purple=u,white=w,yellow=y\n",
    "* population: abundant=a,clustered=c,numerous=n,scattered=s,several=v,solitary=y\n",
    "* habitat: grasses=g,leaves=l,meadows=m,paths=p,urban=u,waste=w,woods=d\n",
    "\n",
    "It looks like every column in this dataset contains _Categorical Features_! \n",
    "\n",
    "Let's check again:"
   ]
  },
  {
   "cell_type": "code",
   "execution_count": 6,
   "id": "667c5875",
   "metadata": {
    "execution": {
     "iopub.execute_input": "2021-09-14T12:27:20.404492Z",
     "iopub.status.busy": "2021-09-14T12:27:20.403390Z",
     "iopub.status.idle": "2021-09-14T12:27:20.424015Z",
     "shell.execute_reply": "2021-09-14T12:27:20.423392Z",
     "shell.execute_reply.started": "2021-08-24T19:26:45.671343Z"
    },
    "papermill": {
     "duration": 0.085462,
     "end_time": "2021-09-14T12:27:20.424191",
     "exception": false,
     "start_time": "2021-09-14T12:27:20.338729",
     "status": "completed"
    },
    "tags": []
   },
   "outputs": [
    {
     "name": "stdout",
     "output_type": "stream",
     "text": [
      "<class 'pandas.core.frame.DataFrame'>\n",
      "RangeIndex: 8124 entries, 0 to 8123\n",
      "Data columns (total 22 columns):\n",
      " #   Column                    Non-Null Count  Dtype \n",
      "---  ------                    --------------  ----- \n",
      " 0   cap-shape                 8124 non-null   object\n",
      " 1   cap-surface               8124 non-null   object\n",
      " 2   cap-color                 8124 non-null   object\n",
      " 3   bruises                   8124 non-null   object\n",
      " 4   odor                      8124 non-null   object\n",
      " 5   gill-attachment           8124 non-null   object\n",
      " 6   gill-spacing              8124 non-null   object\n",
      " 7   gill-size                 8124 non-null   object\n",
      " 8   gill-color                8124 non-null   object\n",
      " 9   stalk-shape               8124 non-null   object\n",
      " 10  stalk-root                8124 non-null   object\n",
      " 11  stalk-surface-above-ring  8124 non-null   object\n",
      " 12  stalk-surface-below-ring  8124 non-null   object\n",
      " 13  stalk-color-above-ring    8124 non-null   object\n",
      " 14  stalk-color-below-ring    8124 non-null   object\n",
      " 15  veil-type                 8124 non-null   object\n",
      " 16  veil-color                8124 non-null   object\n",
      " 17  ring-number               8124 non-null   object\n",
      " 18  ring-type                 8124 non-null   object\n",
      " 19  spore-print-color         8124 non-null   object\n",
      " 20  population                8124 non-null   object\n",
      " 21  habitat                   8124 non-null   object\n",
      "dtypes: object(22)\n",
      "memory usage: 1.4+ MB\n"
     ]
    }
   ],
   "source": [
    "see_no_evil.info()"
   ]
  },
  {
   "cell_type": "markdown",
   "id": "a3d2fb7b",
   "metadata": {
    "papermill": {
     "duration": 0.041436,
     "end_time": "2021-09-14T12:27:20.507316",
     "exception": false,
     "start_time": "2021-09-14T12:27:20.465880",
     "status": "completed"
    },
    "tags": []
   },
   "source": [
    "Yup, the `Dtype` of every column is `object`; so every one of them contain categorical data. the good news is, there are no _missing values_ so that's a relief. Let's check the number of unique values in each column. this helps us understand these categorical features better."
   ]
  },
  {
   "cell_type": "code",
   "execution_count": 7,
   "id": "266a224a",
   "metadata": {
    "execution": {
     "iopub.execute_input": "2021-09-14T12:27:20.598459Z",
     "iopub.status.busy": "2021-09-14T12:27:20.597371Z",
     "iopub.status.idle": "2021-09-14T12:27:20.646989Z",
     "shell.execute_reply": "2021-09-14T12:27:20.646341Z",
     "shell.execute_reply.started": "2021-08-24T19:26:45.708908Z"
    },
    "papermill": {
     "duration": 0.097484,
     "end_time": "2021-09-14T12:27:20.647179",
     "exception": false,
     "start_time": "2021-09-14T12:27:20.549695",
     "status": "completed"
    },
    "tags": []
   },
   "outputs": [
    {
     "data": {
      "text/plain": [
       "cap-shape                    6\n",
       "cap-surface                  4\n",
       "cap-color                   10\n",
       "bruises                      2\n",
       "odor                         9\n",
       "gill-attachment              2\n",
       "gill-spacing                 2\n",
       "gill-size                    2\n",
       "gill-color                  12\n",
       "stalk-shape                  2\n",
       "stalk-root                   5\n",
       "stalk-surface-above-ring     4\n",
       "stalk-surface-below-ring     4\n",
       "stalk-color-above-ring       9\n",
       "stalk-color-below-ring       9\n",
       "veil-type                    1\n",
       "veil-color                   4\n",
       "ring-number                  3\n",
       "ring-type                    5\n",
       "spore-print-color            9\n",
       "population                   6\n",
       "habitat                      7\n",
       "dtype: int64"
      ]
     },
     "execution_count": 7,
     "metadata": {},
     "output_type": "execute_result"
    }
   ],
   "source": [
    "see_no_evil.nunique()"
   ]
  },
  {
   "cell_type": "markdown",
   "id": "365211d8",
   "metadata": {
    "papermill": {
     "duration": 0.041119,
     "end_time": "2021-09-14T12:27:20.730104",
     "exception": false,
     "start_time": "2021-09-14T12:27:20.688985",
     "status": "completed"
    },
    "tags": []
   },
   "source": [
    "notice that `veil-type` has only one unique value, which means every data in this column is the same. since it doesn't help us classify our model, let's just get rid of it."
   ]
  },
  {
   "cell_type": "code",
   "execution_count": 8,
   "id": "9dacb191",
   "metadata": {
    "execution": {
     "iopub.execute_input": "2021-09-14T12:27:20.820288Z",
     "iopub.status.busy": "2021-09-14T12:27:20.819474Z",
     "iopub.status.idle": "2021-09-14T12:27:20.825928Z",
     "shell.execute_reply": "2021-09-14T12:27:20.825288Z",
     "shell.execute_reply.started": "2021-08-24T19:26:45.75818Z"
    },
    "papermill": {
     "duration": 0.05437,
     "end_time": "2021-09-14T12:27:20.826096",
     "exception": false,
     "start_time": "2021-09-14T12:27:20.771726",
     "status": "completed"
    },
    "tags": []
   },
   "outputs": [],
   "source": [
    "data = see_no_evil.drop(['veil-type'],axis=1)"
   ]
  },
  {
   "cell_type": "markdown",
   "id": "5cce2ba5",
   "metadata": {
    "papermill": {
     "duration": 0.042108,
     "end_time": "2021-09-14T12:27:20.910069",
     "exception": false,
     "start_time": "2021-09-14T12:27:20.867961",
     "status": "completed"
    },
    "tags": []
   },
   "source": [
    "# Preprocessing\n",
    "\n",
    "Now we should pre-process the data so that it is ready for an ML model. since all our data is categorical, there is no need to scale the data. also, there are no outliers. so, the only thing we should do is to encode our labels. "
   ]
  },
  {
   "cell_type": "code",
   "execution_count": 9,
   "id": "d60f9961",
   "metadata": {
    "execution": {
     "iopub.execute_input": "2021-09-14T12:27:21.023485Z",
     "iopub.status.busy": "2021-09-14T12:27:21.017394Z",
     "iopub.status.idle": "2021-09-14T12:27:21.090707Z",
     "shell.execute_reply": "2021-09-14T12:27:21.090069Z",
     "shell.execute_reply.started": "2021-08-24T19:26:45.768685Z"
    },
    "papermill": {
     "duration": 0.132577,
     "end_time": "2021-09-14T12:27:21.090894",
     "exception": false,
     "start_time": "2021-09-14T12:27:20.958317",
     "status": "completed"
    },
    "tags": []
   },
   "outputs": [
    {
     "data": {
      "text/html": [
       "<div>\n",
       "<style scoped>\n",
       "    .dataframe tbody tr th:only-of-type {\n",
       "        vertical-align: middle;\n",
       "    }\n",
       "\n",
       "    .dataframe tbody tr th {\n",
       "        vertical-align: top;\n",
       "    }\n",
       "\n",
       "    .dataframe thead th {\n",
       "        text-align: right;\n",
       "    }\n",
       "</style>\n",
       "<table border=\"1\" class=\"dataframe\">\n",
       "  <thead>\n",
       "    <tr style=\"text-align: right;\">\n",
       "      <th></th>\n",
       "      <th>cap-shape</th>\n",
       "      <th>cap-surface</th>\n",
       "      <th>cap-color</th>\n",
       "      <th>bruises</th>\n",
       "      <th>odor</th>\n",
       "      <th>gill-attachment</th>\n",
       "      <th>gill-spacing</th>\n",
       "      <th>gill-size</th>\n",
       "      <th>gill-color</th>\n",
       "      <th>stalk-shape</th>\n",
       "      <th>...</th>\n",
       "      <th>stalk-surface-above-ring</th>\n",
       "      <th>stalk-surface-below-ring</th>\n",
       "      <th>stalk-color-above-ring</th>\n",
       "      <th>stalk-color-below-ring</th>\n",
       "      <th>veil-color</th>\n",
       "      <th>ring-number</th>\n",
       "      <th>ring-type</th>\n",
       "      <th>spore-print-color</th>\n",
       "      <th>population</th>\n",
       "      <th>habitat</th>\n",
       "    </tr>\n",
       "  </thead>\n",
       "  <tbody>\n",
       "    <tr>\n",
       "      <th>0</th>\n",
       "      <td>5</td>\n",
       "      <td>2</td>\n",
       "      <td>4</td>\n",
       "      <td>1</td>\n",
       "      <td>6</td>\n",
       "      <td>1</td>\n",
       "      <td>0</td>\n",
       "      <td>1</td>\n",
       "      <td>4</td>\n",
       "      <td>0</td>\n",
       "      <td>...</td>\n",
       "      <td>2</td>\n",
       "      <td>2</td>\n",
       "      <td>7</td>\n",
       "      <td>7</td>\n",
       "      <td>2</td>\n",
       "      <td>1</td>\n",
       "      <td>4</td>\n",
       "      <td>2</td>\n",
       "      <td>3</td>\n",
       "      <td>5</td>\n",
       "    </tr>\n",
       "    <tr>\n",
       "      <th>1</th>\n",
       "      <td>5</td>\n",
       "      <td>2</td>\n",
       "      <td>9</td>\n",
       "      <td>1</td>\n",
       "      <td>0</td>\n",
       "      <td>1</td>\n",
       "      <td>0</td>\n",
       "      <td>0</td>\n",
       "      <td>4</td>\n",
       "      <td>0</td>\n",
       "      <td>...</td>\n",
       "      <td>2</td>\n",
       "      <td>2</td>\n",
       "      <td>7</td>\n",
       "      <td>7</td>\n",
       "      <td>2</td>\n",
       "      <td>1</td>\n",
       "      <td>4</td>\n",
       "      <td>3</td>\n",
       "      <td>2</td>\n",
       "      <td>1</td>\n",
       "    </tr>\n",
       "    <tr>\n",
       "      <th>2</th>\n",
       "      <td>0</td>\n",
       "      <td>2</td>\n",
       "      <td>8</td>\n",
       "      <td>1</td>\n",
       "      <td>3</td>\n",
       "      <td>1</td>\n",
       "      <td>0</td>\n",
       "      <td>0</td>\n",
       "      <td>5</td>\n",
       "      <td>0</td>\n",
       "      <td>...</td>\n",
       "      <td>2</td>\n",
       "      <td>2</td>\n",
       "      <td>7</td>\n",
       "      <td>7</td>\n",
       "      <td>2</td>\n",
       "      <td>1</td>\n",
       "      <td>4</td>\n",
       "      <td>3</td>\n",
       "      <td>2</td>\n",
       "      <td>3</td>\n",
       "    </tr>\n",
       "    <tr>\n",
       "      <th>3</th>\n",
       "      <td>5</td>\n",
       "      <td>3</td>\n",
       "      <td>8</td>\n",
       "      <td>1</td>\n",
       "      <td>6</td>\n",
       "      <td>1</td>\n",
       "      <td>0</td>\n",
       "      <td>1</td>\n",
       "      <td>5</td>\n",
       "      <td>0</td>\n",
       "      <td>...</td>\n",
       "      <td>2</td>\n",
       "      <td>2</td>\n",
       "      <td>7</td>\n",
       "      <td>7</td>\n",
       "      <td>2</td>\n",
       "      <td>1</td>\n",
       "      <td>4</td>\n",
       "      <td>2</td>\n",
       "      <td>3</td>\n",
       "      <td>5</td>\n",
       "    </tr>\n",
       "    <tr>\n",
       "      <th>4</th>\n",
       "      <td>5</td>\n",
       "      <td>2</td>\n",
       "      <td>3</td>\n",
       "      <td>0</td>\n",
       "      <td>5</td>\n",
       "      <td>1</td>\n",
       "      <td>1</td>\n",
       "      <td>0</td>\n",
       "      <td>4</td>\n",
       "      <td>1</td>\n",
       "      <td>...</td>\n",
       "      <td>2</td>\n",
       "      <td>2</td>\n",
       "      <td>7</td>\n",
       "      <td>7</td>\n",
       "      <td>2</td>\n",
       "      <td>1</td>\n",
       "      <td>0</td>\n",
       "      <td>3</td>\n",
       "      <td>0</td>\n",
       "      <td>1</td>\n",
       "    </tr>\n",
       "  </tbody>\n",
       "</table>\n",
       "<p>5 rows × 21 columns</p>\n",
       "</div>"
      ],
      "text/plain": [
       "   cap-shape  cap-surface  cap-color  bruises  odor  gill-attachment  \\\n",
       "0          5            2          4        1     6                1   \n",
       "1          5            2          9        1     0                1   \n",
       "2          0            2          8        1     3                1   \n",
       "3          5            3          8        1     6                1   \n",
       "4          5            2          3        0     5                1   \n",
       "\n",
       "   gill-spacing  gill-size  gill-color  stalk-shape  ...  \\\n",
       "0             0          1           4            0  ...   \n",
       "1             0          0           4            0  ...   \n",
       "2             0          0           5            0  ...   \n",
       "3             0          1           5            0  ...   \n",
       "4             1          0           4            1  ...   \n",
       "\n",
       "   stalk-surface-above-ring  stalk-surface-below-ring  stalk-color-above-ring  \\\n",
       "0                         2                         2                       7   \n",
       "1                         2                         2                       7   \n",
       "2                         2                         2                       7   \n",
       "3                         2                         2                       7   \n",
       "4                         2                         2                       7   \n",
       "\n",
       "   stalk-color-below-ring  veil-color  ring-number  ring-type  \\\n",
       "0                       7           2            1          4   \n",
       "1                       7           2            1          4   \n",
       "2                       7           2            1          4   \n",
       "3                       7           2            1          4   \n",
       "4                       7           2            1          0   \n",
       "\n",
       "   spore-print-color  population  habitat  \n",
       "0                  2           3        5  \n",
       "1                  3           2        1  \n",
       "2                  3           2        3  \n",
       "3                  2           3        5  \n",
       "4                  3           0        1  \n",
       "\n",
       "[5 rows x 21 columns]"
      ]
     },
     "execution_count": 9,
     "metadata": {},
     "output_type": "execute_result"
    }
   ],
   "source": [
    "encoder = preprocessing.LabelEncoder()\n",
    "encoded_data = data.apply(encoder.fit_transform)\n",
    "encoded_data.head()"
   ]
  },
  {
   "cell_type": "markdown",
   "id": "e61c3491",
   "metadata": {
    "papermill": {
     "duration": 0.04289,
     "end_time": "2021-09-14T12:27:21.176414",
     "exception": false,
     "start_time": "2021-09-14T12:27:21.133524",
     "status": "completed"
    },
    "tags": []
   },
   "source": [
    "# Train the Model\n",
    "\n",
    "Now it's time to train our clustering model. we know that our model should find 2 classes. so, the number of clusters is known. \n",
    "\n",
    "It would be really convenient if we could just use the k-means clustering method; because it could simply give us two classes. but it's not possible because k-means works with Euclidean distance which is not meaningful on discrete data like ours. \n",
    "\n",
    "fortunately, there is an extention for this algorithm called **K-modes** that works on categorical data. \n",
    "\n",
    "> k-modes is used for clustering categorical variables. It defines clusters based on the number of matching categories between data points. (This is in contrast to the more well-known k-means algorithm, which clusters numerical data based on Euclidean distance.) The k-prototypes algorithm combines k-modes and k-means and is able to cluster mixed numerical / categorical data.\n",
    "\n",
    "Let's first install this library:"
   ]
  },
  {
   "cell_type": "code",
   "execution_count": 10,
   "id": "e3bfff45",
   "metadata": {
    "execution": {
     "iopub.execute_input": "2021-09-14T12:27:21.267666Z",
     "iopub.status.busy": "2021-09-14T12:27:21.266911Z",
     "iopub.status.idle": "2021-09-14T12:27:28.722814Z",
     "shell.execute_reply": "2021-09-14T12:27:28.723923Z",
     "shell.execute_reply.started": "2021-08-24T19:26:45.856813Z"
    },
    "papermill": {
     "duration": 7.504294,
     "end_time": "2021-09-14T12:27:28.724217",
     "exception": false,
     "start_time": "2021-09-14T12:27:21.219923",
     "status": "completed"
    },
    "tags": []
   },
   "outputs": [
    {
     "name": "stdout",
     "output_type": "stream",
     "text": [
      "Requirement already satisfied: kmodes in c:\\users\\shubh\\anaconda3\\lib\\site-packages (0.12.2)\n",
      "Requirement already satisfied: scikit-learn>=0.22.0 in c:\\users\\shubh\\anaconda3\\lib\\site-packages (from kmodes) (1.0.2)\n",
      "Requirement already satisfied: numpy>=1.10.4 in c:\\users\\shubh\\anaconda3\\lib\\site-packages (from kmodes) (1.21.5)\n",
      "Requirement already satisfied: scipy>=0.13.3 in c:\\users\\shubh\\anaconda3\\lib\\site-packages (from kmodes) (1.9.1)\n",
      "Requirement already satisfied: joblib>=0.11 in c:\\users\\shubh\\anaconda3\\lib\\site-packages (from kmodes) (1.1.0)\n",
      "Requirement already satisfied: threadpoolctl>=2.0.0 in c:\\users\\shubh\\anaconda3\\lib\\site-packages (from scikit-learn>=0.22.0->kmodes) (2.2.0)\n"
     ]
    }
   ],
   "source": [
    "!pip install kmodes"
   ]
  },
  {
   "cell_type": "markdown",
   "id": "d10016df",
   "metadata": {
    "papermill": {
     "duration": 0.0456,
     "end_time": "2021-09-14T12:27:28.814023",
     "exception": false,
     "start_time": "2021-09-14T12:27:28.768423",
     "status": "completed"
    },
    "tags": []
   },
   "source": [
    "Now we can use it to cluster our data into two classes:"
   ]
  },
  {
   "cell_type": "code",
   "execution_count": 11,
   "id": "10990472",
   "metadata": {
    "execution": {
     "iopub.execute_input": "2021-09-14T12:27:28.910981Z",
     "iopub.status.busy": "2021-09-14T12:27:28.910194Z",
     "iopub.status.idle": "2021-09-14T12:27:31.327237Z",
     "shell.execute_reply": "2021-09-14T12:27:31.327813Z",
     "shell.execute_reply.started": "2021-08-24T19:26:52.906229Z"
    },
    "papermill": {
     "duration": 2.47053,
     "end_time": "2021-09-14T12:27:31.328050",
     "exception": false,
     "start_time": "2021-09-14T12:27:28.857520",
     "status": "completed"
    },
    "tags": []
   },
   "outputs": [
    {
     "name": "stdout",
     "output_type": "stream",
     "text": [
      "Initialization method and algorithm are deterministic. Setting n_init to 1.\n",
      "Init: initializing centroids\n",
      "Init: initializing clusters\n",
      "Starting iterations...\n",
      "Run 1, iteration: 1/100, moves: 175, cost: 62644.0\n"
     ]
    }
   ],
   "source": [
    "from kmodes.kmodes import KModes\n",
    "\n",
    "km = KModes(n_clusters=2, init='Cao', verbose=1)\n",
    "clusters = km.fit_predict(encoded_data)\n",
    "predicted_labels = pd.DataFrame(clusters, columns=['predicted-label'])"
   ]
  },
  {
   "cell_type": "code",
   "execution_count": 12,
   "id": "94a0df93",
   "metadata": {
    "execution": {
     "iopub.execute_input": "2021-09-14T12:27:31.424754Z",
     "iopub.status.busy": "2021-09-14T12:27:31.424070Z",
     "iopub.status.idle": "2021-09-14T12:27:31.623216Z",
     "shell.execute_reply": "2021-09-14T12:27:31.623749Z",
     "shell.execute_reply.started": "2021-08-24T19:26:55.350076Z"
    },
    "papermill": {
     "duration": 0.248551,
     "end_time": "2021-09-14T12:27:31.623978",
     "exception": false,
     "start_time": "2021-09-14T12:27:31.375427",
     "status": "completed"
    },
    "tags": []
   },
   "outputs": [
    {
     "data": {
      "text/plain": [
       "<AxesSubplot:ylabel='None'>"
      ]
     },
     "execution_count": 12,
     "metadata": {},
     "output_type": "execute_result"
    },
    {
     "data": {
      "image/png": "[encoded data removed]",
      "text/plain": [
       "<Figure size 640x480 with 1 Axes>"
      ]
     },
     "metadata": {},
     "output_type": "display_data"
    }
   ],
   "source": [
    "predicted_labels.value_counts().plot.pie(autopct='%1.0f%%', pctdistance=0.7, labeldistance=1.1)"
   ]
  },
  {
   "cell_type": "markdown",
   "id": "818b9327",
   "metadata": {
    "papermill": {
     "duration": 0.044808,
     "end_time": "2021-09-14T12:27:31.714028",
     "exception": false,
     "start_time": "2021-09-14T12:27:31.669220",
     "status": "completed"
    },
    "tags": []
   },
   "source": [
    "after 5 different initializations, k-mode gives us the best results. let's add these labels to our original dataframe (`data`)"
   ]
  },
  {
   "cell_type": "code",
   "execution_count": 13,
   "id": "d04261fe",
   "metadata": {
    "execution": {
     "iopub.execute_input": "2021-09-14T12:27:31.811108Z",
     "iopub.status.busy": "2021-09-14T12:27:31.810380Z",
     "iopub.status.idle": "2021-09-14T12:27:31.813559Z",
     "shell.execute_reply": "2021-09-14T12:27:31.814085Z",
     "shell.execute_reply.started": "2021-08-24T19:26:55.449934Z"
    },
    "papermill": {
     "duration": 0.05507,
     "end_time": "2021-09-14T12:27:31.814263",
     "exception": false,
     "start_time": "2021-09-14T12:27:31.759193",
     "status": "completed"
    },
    "tags": []
   },
   "outputs": [],
   "source": [
    "data['predicted-labels'] = clusters"
   ]
  },
  {
   "cell_type": "code",
   "execution_count": 14,
   "id": "b1eafdaa",
   "metadata": {
    "execution": {
     "iopub.execute_input": "2021-09-14T12:27:31.919198Z",
     "iopub.status.busy": "2021-09-14T12:27:31.918299Z",
     "iopub.status.idle": "2021-09-14T12:27:31.923323Z",
     "shell.execute_reply": "2021-09-14T12:27:31.922735Z",
     "shell.execute_reply.started": "2021-08-24T19:26:55.456073Z"
    },
    "papermill": {
     "duration": 0.06376,
     "end_time": "2021-09-14T12:27:31.923468",
     "exception": false,
     "start_time": "2021-09-14T12:27:31.859708",
     "status": "completed"
    },
    "tags": []
   },
   "outputs": [
    {
     "name": "stdout",
     "output_type": "stream",
     "text": [
      "in this encoding, [1] represents ['p']\n"
     ]
    }
   ],
   "source": [
    "encoded_target = target.apply(encoder.fit_transform)\n",
    "print(f'in this encoding, {encoded_target.iloc[0].values} represents {target.iloc[0].values}')"
   ]
  },
  {
   "cell_type": "markdown",
   "id": "ec1d1499",
   "metadata": {
    "papermill": {
     "duration": 0.04474,
     "end_time": "2021-09-14T12:27:32.014223",
     "exception": false,
     "start_time": "2021-09-14T12:27:31.969483",
     "status": "completed"
    },
    "tags": []
   },
   "source": [
    "# Evaluate our predictions\n",
    "\n",
    "Now we can finally look at our targets. I want to compare our predicted labels with the target classes and figure out wherher we've done a good job or not. \n"
   ]
  },
  {
   "cell_type": "code",
   "execution_count": 15,
   "id": "24f37343",
   "metadata": {
    "execution": {
     "iopub.execute_input": "2021-09-14T12:27:32.534169Z",
     "iopub.status.busy": "2021-09-14T12:27:32.533383Z",
     "iopub.status.idle": "2021-09-14T12:27:32.806103Z",
     "shell.execute_reply": "2021-09-14T12:27:32.806576Z",
     "shell.execute_reply.started": "2021-08-24T19:26:55.525631Z"
    },
    "papermill": {
     "duration": 0.326946,
     "end_time": "2021-09-14T12:27:32.806826",
     "exception": false,
     "start_time": "2021-09-14T12:27:32.479880",
     "status": "completed"
    },
    "tags": []
   },
   "outputs": [
    {
     "data": {
      "text/plain": [
       "Text(0.5, 23.52222222222222, 'Predicted Labels')"
      ]
     },
     "execution_count": 15,
     "metadata": {},
     "output_type": "execute_result"
    },
    {
     "data": {
      "image/png": "[encoded data removed]",
      "text/plain": [
       "<Figure size 640x480 with 2 Axes>"
      ]
     },
     "metadata": {},
     "output_type": "display_data"
    }
   ],
   "source": [
    "cf_matrix = confusion_matrix(encoded_target.values.reshape(1, -1)[0], clusters)\n",
    "labels = ['True Neg','False Pos','False Neg','True Pos']\n",
    "labels = np.asarray(labels).reshape(2,2)\n",
    "fig, ax = plt.subplots(1, 1)\n",
    "sns.heatmap(cf_matrix/np.sum(cf_matrix), annot=labels, fmt='', cmap='Blues')\n",
    "ax.set_ylabel('Target Labels')    \n",
    "ax.set_xlabel('Predicted Labels')"
   ]
  },
  {
   "cell_type": "markdown",
   "id": "78451610",
   "metadata": {
    "papermill": {
     "duration": 0.048791,
     "end_time": "2021-09-14T12:27:32.903141",
     "exception": false,
     "start_time": "2021-09-14T12:27:32.854350",
     "status": "completed"
    },
    "tags": []
   },
   "source": [
    "using the confusion matrix, we could calculate other evaluation metrics such as **accuracy**, **percision**, **recall** and **F1 Score**\n"
   ]
  },
  {
   "cell_type": "code",
   "execution_count": 16,
   "id": "47d4ff57",
   "metadata": {
    "execution": {
     "iopub.execute_input": "2021-09-14T12:27:33.214529Z",
     "iopub.status.busy": "2021-09-14T12:27:33.213830Z",
     "iopub.status.idle": "2021-09-14T12:27:33.215894Z",
     "shell.execute_reply": "2021-09-14T12:27:33.216440Z",
     "shell.execute_reply.started": "2021-08-24T19:26:55.791935Z"
    },
    "papermill": {
     "duration": 0.059647,
     "end_time": "2021-09-14T12:27:33.216664",
     "exception": false,
     "start_time": "2021-09-14T12:27:33.157017",
     "status": "completed"
    },
    "tags": []
   },
   "outputs": [],
   "source": [
    "True_neg = cf_matrix[0,0]\n",
    "False_pos = cf_matrix[0,1]\n",
    "True_pos = cf_matrix[1,1]\n",
    "False_neg = cf_matrix[1,0]\n",
    "\n",
    "accuracy = (True_neg + True_pos)/(True_neg + False_neg + True_pos + False_pos)\n",
    "recall = (True_pos)/(False_neg+True_pos)\n",
    "precision = (True_pos)/(False_pos + True_pos)\n",
    "F1_score = 2 * ((precision*recall)/(precision+recall))"
   ]
  },
  {
   "cell_type": "code",
   "execution_count": 17,
   "id": "22744ab7",
   "metadata": {
    "execution": {
     "iopub.execute_input": "2021-09-14T12:27:33.322277Z",
     "iopub.status.busy": "2021-09-14T12:27:33.321588Z",
     "iopub.status.idle": "2021-09-14T12:27:33.327674Z",
     "shell.execute_reply": "2021-09-14T12:27:33.328333Z",
     "shell.execute_reply.started": "2021-08-24T19:26:55.799024Z"
    },
    "papermill": {
     "duration": 0.059391,
     "end_time": "2021-09-14T12:27:33.328543",
     "exception": false,
     "start_time": "2021-09-14T12:27:33.269152",
     "status": "completed"
    },
    "tags": []
   },
   "outputs": [
    {
     "name": "stdout",
     "output_type": "stream",
     "text": [
      "Accuracy: 0.8754308222550468\n",
      "Recall: 0.7441266598569969\n",
      "Precision: 0.9965800273597811\n",
      "F1_score: 0.8520467836257309\n"
     ]
    }
   ],
   "source": [
    "print(f'Accuracy: {accuracy}')\n",
    "print(f'Recall: {recall}')\n",
    "print(f'Precision: {precision}')\n",
    "print(f'F1_score: {F1_score}')"
   ]
  },
  {
   "cell_type": "code",
   "execution_count": null,
   "id": "2eef7707",
   "metadata": {},
   "outputs": [],
   "source": []
  }
 ],
 "metadata": {
  "kernelspec": {
   "display_name": "Python 3 (ipykernel)",
   "language": "python",
   "name": "python3"
  },
  "language_info": {
   "codemirror_mode": {
    "name": "ipython",
    "version": 3
   },
   "file_extension": ".py",
   "mimetype": "text/x-python",
   "name": "python",
   "nbconvert_exporter": "python",
   "pygments_lexer": "ipython3",
   "version": "3.9.13"
  },
  "papermill": {
   "default_parameters": {},
   "duration": 40.71657,
   "end_time": "2021-09-14T12:27:34.662094",
   "environment_variables": {},
   "exception": null,
   "input_path": "__notebook__.ipynb",
   "output_path": "__notebook__.ipynb",
   "parameters": {},
   "start_time": "2021-09-14T12:26:53.945524",
   "version": "2.3.3"
  }
 },
 "nbformat": 4,
 "nbformat_minor": 5
}
