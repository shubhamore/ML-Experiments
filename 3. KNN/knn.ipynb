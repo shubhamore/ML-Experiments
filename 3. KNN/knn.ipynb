{
 "cells": [
  {
   "cell_type": "markdown",
   "id": "de1dc8b9",
   "metadata": {},
   "source": [
    "# KNN Algorithm\n",
    "The k-nearest neighbors (k-NN) algorithm is a simple yet effective supervised machine learning algorithm used for classification and regression tasks. It operates on the principle of similarity, where the output of a data point is determined by the majority vote (for classification) or averaging (for regression) of its k nearest neighbors in the feature space. Here's a detailed theoretical overview of the k-NN algorithm:\n",
    "\n",
    "**Algorithm Overview:**\n",
    "\n",
    "1. Given a dataset D consisting of n samples, each represented by a feature vector and a corresponding class label (in the case of classification) or continuous target variable (in the case of regression), the k-NN algorithm works as follows:\n",
    "\n",
    "2. For a new input data point, the algorithm calculates the distance between this point and all other points in the dataset.\n",
    "\n",
    "3. It then identifies the k nearest neighbors based on these distances.\n",
    "\n",
    "4. For classification tasks, the algorithm assigns the most common class label among the k nearest neighbors to the new data point.\n",
    "\n",
    "5. For regression tasks, it computes the average of the target variables of the k nearest neighbors and assigns this as the predicted value for the new data point.\n",
    "\n",
    "**Distance Metrics:**\n",
    "\n",
    "1. The choice of distance metric significantly influences the performance of the k-NN algorithm. Common distance metrics include Euclidean distance, Manhattan distance, Minkowski distance, and cosine similarity.\n",
    "\n",
    "2. Euclidean distance is often preferred for its simplicity and effectiveness, especially in low-dimensional spaces.\n",
    "\n",
    "**Parameter Selection:**\n",
    "\n",
    "1. The key hyperparameter in k-NN is k, the number of neighbors to consider. Choosing the right value of k is crucial and depends on the dataset characteristics.\n",
    "\n",
    "2. Smaller values of k lead to more flexible models with higher variance but lower bias, while larger values of k result in smoother decision boundaries with lower variance but higher bias.\n",
    "\n",
    "**Curse of Dimensionality:**\n",
    "\n",
    "1. The performance of k-NN can deteriorate significantly as the dimensionality of the feature space increases. This is known as the curse of dimensionality.\n",
    "\n",
    "2. In high-dimensional spaces, the notion of distance becomes less meaningful, and the data points become increasingly sparse, making it difficult to identify meaningful nearest neighbors.\n",
    "\n",
    "**Preprocessing:**\n",
    "\n",
    "1. Proper preprocessing of the data, such as feature scaling and normalization, can improve the performance of k-NN.\n",
    "\n",
    "2. Additionally, feature selection or dimensionality reduction techniques like PCA (Principal Component Analysis) can help mitigate the curse of dimensionality.\n",
    "\n",
    "**Computational Complexity:**\n",
    "\n",
    "1. The computational complexity of k-NN at training time is negligible since it simply stores all training samples.\n",
    "\n",
    "2. However, the prediction time complexity can be high, particularly for large datasets, as it involves computing distances to all training samples.\n",
    "\n",
    "3. Various optimizations, such as KD-trees or Ball trees, can be employed to speed up the search for nearest neighbors.\n",
    "\n",
    "**Handling Imbalanced Data:**\n",
    "\n",
    "1. In classification tasks with imbalanced class distributions, the majority class may dominate the decision-making process. Techniques like weighted k-NN or resampling methods can help alleviate this issue.\n",
    "\n",
    "**Evaluation:**\n",
    "\n",
    "1. Performance evaluation of the k-NN algorithm typically involves metrics such as accuracy, precision, recall, F1-score (for classification), and mean squared error or R-squared (for regression).\n",
    "\n",
    "2. Cross-validation techniques like k-fold cross-validation are commonly used to assess the algorithm's generalization performance.\n",
    "\n",
    "**Applications:**\n",
    "\n",
    "1. k-NN is widely used in various domains, including pattern recognition, image classification, recommendation systems, and anomaly detection, among others.\n",
    "\n",
    "By implementing and analyzing the k-nearest neighbors algorithm, one can gain insights into its strengths, weaknesses, and suitability for different types of datasets and tasks. Experimentation with different parameter settings, distance metrics, and preprocessing techniques can provide valuable practical experience in machine learning. Additionally, comparing the performance of k-NN with other algorithms can help in understanding its relative advantages and limitations.\n",
    "\n",
    "\n",
    "---\n",
    "\n",
    "\n",
    "Dataset used from https://www.kaggle.com/datasets/rakeshrau/social-network-ads\n"
   ]
  },
  {
   "cell_type": "markdown",
   "id": "f3b82d3e",
   "metadata": {
    "papermill": {
     "duration": 0.006884,
     "end_time": "2023-11-15T10:06:18.629239",
     "exception": false,
     "start_time": "2023-11-15T10:06:18.622355",
     "status": "completed"
    },
    "tags": []
   },
   "source": [
    "# Importing the Necessary Libraries"
   ]
  },
  {
   "cell_type": "code",
   "execution_count": 1,
   "id": "5e24c642",
   "metadata": {
    "_cell_guid": "b1076dfc-b9ad-4769-8c92-a6c4dae69d19",
    "_uuid": "8f2839f25d086af736a60e9eeb907d3b93b6e0e5",
    "execution": {
     "iopub.execute_input": "2023-11-15T10:06:18.644327Z",
     "iopub.status.busy": "2023-11-15T10:06:18.643826Z",
     "iopub.status.idle": "2023-11-15T10:06:19.136503Z",
     "shell.execute_reply": "2023-11-15T10:06:19.135147Z"
    },
    "papermill": {
     "duration": 0.50367,
     "end_time": "2023-11-15T10:06:19.139538",
     "exception": false,
     "start_time": "2023-11-15T10:06:18.635868",
     "status": "completed"
    },
    "tags": []
   },
   "outputs": [],
   "source": [
    "import numpy as np # linear algebra\n",
    "import pandas as pd # data processing, CSV file I/O (e.g. pd.read_csv)\n",
    "import matplotlib.pyplot as plt\n",
    "%matplotlib inline"
   ]
  },
  {
   "cell_type": "markdown",
   "id": "5b5ec482",
   "metadata": {
    "papermill": {
     "duration": 0.006131,
     "end_time": "2023-11-15T10:06:19.152206",
     "exception": false,
     "start_time": "2023-11-15T10:06:19.146075",
     "status": "completed"
    },
    "tags": []
   },
   "source": [
    "# Data Importation and Exploration"
   ]
  },
  {
   "cell_type": "code",
   "execution_count": 2,
   "id": "eafcbb51",
   "metadata": {
    "execution": {
     "iopub.execute_input": "2023-11-15T10:06:19.167821Z",
     "iopub.status.busy": "2023-11-15T10:06:19.167217Z",
     "iopub.status.idle": "2023-11-15T10:06:19.210196Z",
     "shell.execute_reply": "2023-11-15T10:06:19.208924Z"
    },
    "papermill": {
     "duration": 0.054387,
     "end_time": "2023-11-15T10:06:19.213241",
     "exception": false,
     "start_time": "2023-11-15T10:06:19.158854",
     "status": "completed"
    },
    "tags": []
   },
   "outputs": [
    {
     "data": {
      "text/html": [
       "<div>\n",
       "<style scoped>\n",
       "    .dataframe tbody tr th:only-of-type {\n",
       "        vertical-align: middle;\n",
       "    }\n",
       "\n",
       "    .dataframe tbody tr th {\n",
       "        vertical-align: top;\n",
       "    }\n",
       "\n",
       "    .dataframe thead th {\n",
       "        text-align: right;\n",
       "    }\n",
       "</style>\n",
       "<table border=\"1\" class=\"dataframe\">\n",
       "  <thead>\n",
       "    <tr style=\"text-align: right;\">\n",
       "      <th></th>\n",
       "      <th>User ID</th>\n",
       "      <th>Gender</th>\n",
       "      <th>Age</th>\n",
       "      <th>EstimatedSalary</th>\n",
       "      <th>Purchased</th>\n",
       "    </tr>\n",
       "  </thead>\n",
       "  <tbody>\n",
       "    <tr>\n",
       "      <th>0</th>\n",
       "      <td>15624510</td>\n",
       "      <td>Male</td>\n",
       "      <td>19</td>\n",
       "      <td>19000</td>\n",
       "      <td>0</td>\n",
       "    </tr>\n",
       "    <tr>\n",
       "      <th>1</th>\n",
       "      <td>15810944</td>\n",
       "      <td>Male</td>\n",
       "      <td>35</td>\n",
       "      <td>20000</td>\n",
       "      <td>0</td>\n",
       "    </tr>\n",
       "    <tr>\n",
       "      <th>2</th>\n",
       "      <td>15668575</td>\n",
       "      <td>Female</td>\n",
       "      <td>26</td>\n",
       "      <td>43000</td>\n",
       "      <td>0</td>\n",
       "    </tr>\n",
       "    <tr>\n",
       "      <th>3</th>\n",
       "      <td>15603246</td>\n",
       "      <td>Female</td>\n",
       "      <td>27</td>\n",
       "      <td>57000</td>\n",
       "      <td>0</td>\n",
       "    </tr>\n",
       "    <tr>\n",
       "      <th>4</th>\n",
       "      <td>15804002</td>\n",
       "      <td>Male</td>\n",
       "      <td>19</td>\n",
       "      <td>76000</td>\n",
       "      <td>0</td>\n",
       "    </tr>\n",
       "  </tbody>\n",
       "</table>\n",
       "</div>"
      ],
      "text/plain": [
       "    User ID  Gender  Age  EstimatedSalary  Purchased\n",
       "0  15624510    Male   19            19000          0\n",
       "1  15810944    Male   35            20000          0\n",
       "2  15668575  Female   26            43000          0\n",
       "3  15603246  Female   27            57000          0\n",
       "4  15804002    Male   19            76000          0"
      ]
     },
     "execution_count": 2,
     "metadata": {},
     "output_type": "execute_result"
    }
   ],
   "source": [
    "# Loading and previewing our dataset\n",
    "social_df = pd.read_csv('./Social_Network_Ads.csv')\n",
    "social_df.head()"
   ]
  },
  {
   "cell_type": "code",
   "execution_count": 3,
   "id": "d3f2805b",
   "metadata": {
    "execution": {
     "iopub.execute_input": "2023-11-15T10:06:19.229101Z",
     "iopub.status.busy": "2023-11-15T10:06:19.228678Z",
     "iopub.status.idle": "2023-11-15T10:06:19.235820Z",
     "shell.execute_reply": "2023-11-15T10:06:19.234668Z"
    },
    "papermill": {
     "duration": 0.01813,
     "end_time": "2023-11-15T10:06:19.238210",
     "exception": false,
     "start_time": "2023-11-15T10:06:19.220080",
     "status": "completed"
    },
    "tags": []
   },
   "outputs": [
    {
     "data": {
      "text/plain": [
       "(400, 5)"
      ]
     },
     "execution_count": 3,
     "metadata": {},
     "output_type": "execute_result"
    }
   ],
   "source": [
    "# Determining the size of our dataset\n",
    "social_df.shape"
   ]
  },
  {
   "cell_type": "markdown",
   "id": "4748ad78",
   "metadata": {
    "papermill": {
     "duration": 0.006622,
     "end_time": "2023-11-15T10:06:19.251765",
     "exception": false,
     "start_time": "2023-11-15T10:06:19.245143",
     "status": "completed"
    },
    "tags": []
   },
   "source": [
    "# Data Preparation"
   ]
  },
  {
   "cell_type": "code",
   "execution_count": 4,
   "id": "0fbf96ac",
   "metadata": {
    "execution": {
     "iopub.execute_input": "2023-11-15T10:06:19.269041Z",
     "iopub.status.busy": "2023-11-15T10:06:19.268202Z",
     "iopub.status.idle": "2023-11-15T10:06:19.281619Z",
     "shell.execute_reply": "2023-11-15T10:06:19.280177Z"
    },
    "papermill": {
     "duration": 0.025337,
     "end_time": "2023-11-15T10:06:19.284499",
     "exception": false,
     "start_time": "2023-11-15T10:06:19.259162",
     "status": "completed"
    },
    "tags": []
   },
   "outputs": [
    {
     "data": {
      "text/html": [
       "<div>\n",
       "<style scoped>\n",
       "    .dataframe tbody tr th:only-of-type {\n",
       "        vertical-align: middle;\n",
       "    }\n",
       "\n",
       "    .dataframe tbody tr th {\n",
       "        vertical-align: top;\n",
       "    }\n",
       "\n",
       "    .dataframe thead th {\n",
       "        text-align: right;\n",
       "    }\n",
       "</style>\n",
       "<table border=\"1\" class=\"dataframe\">\n",
       "  <thead>\n",
       "    <tr style=\"text-align: right;\">\n",
       "      <th></th>\n",
       "      <th>User ID</th>\n",
       "      <th>Gender</th>\n",
       "      <th>Age</th>\n",
       "      <th>EstimatedSalary</th>\n",
       "      <th>Purchased</th>\n",
       "    </tr>\n",
       "  </thead>\n",
       "  <tbody>\n",
       "    <tr>\n",
       "      <th>0</th>\n",
       "      <td>15624510</td>\n",
       "      <td>1</td>\n",
       "      <td>19</td>\n",
       "      <td>19000</td>\n",
       "      <td>0</td>\n",
       "    </tr>\n",
       "    <tr>\n",
       "      <th>1</th>\n",
       "      <td>15810944</td>\n",
       "      <td>1</td>\n",
       "      <td>35</td>\n",
       "      <td>20000</td>\n",
       "      <td>0</td>\n",
       "    </tr>\n",
       "    <tr>\n",
       "      <th>2</th>\n",
       "      <td>15668575</td>\n",
       "      <td>0</td>\n",
       "      <td>26</td>\n",
       "      <td>43000</td>\n",
       "      <td>0</td>\n",
       "    </tr>\n",
       "    <tr>\n",
       "      <th>3</th>\n",
       "      <td>15603246</td>\n",
       "      <td>0</td>\n",
       "      <td>27</td>\n",
       "      <td>57000</td>\n",
       "      <td>0</td>\n",
       "    </tr>\n",
       "    <tr>\n",
       "      <th>4</th>\n",
       "      <td>15804002</td>\n",
       "      <td>1</td>\n",
       "      <td>19</td>\n",
       "      <td>76000</td>\n",
       "      <td>0</td>\n",
       "    </tr>\n",
       "  </tbody>\n",
       "</table>\n",
       "</div>"
      ],
      "text/plain": [
       "    User ID  Gender  Age  EstimatedSalary  Purchased\n",
       "0  15624510       1   19            19000          0\n",
       "1  15810944       1   35            20000          0\n",
       "2  15668575       0   26            43000          0\n",
       "3  15603246       0   27            57000          0\n",
       "4  15804002       1   19            76000          0"
      ]
     },
     "execution_count": 4,
     "metadata": {},
     "output_type": "execute_result"
    }
   ],
   "source": [
    "social_df[\"Gender\"] = np.where(social_df[\"Gender\"].str.contains(\"Male\", \"Female\"), 1, 0)\n",
    "social_df.head()"
   ]
  },
  {
   "cell_type": "markdown",
   "id": "cf16c067",
   "metadata": {
    "papermill": {
     "duration": 0.006682,
     "end_time": "2023-11-15T10:06:19.298465",
     "exception": false,
     "start_time": "2023-11-15T10:06:19.291783",
     "status": "completed"
    },
    "tags": []
   },
   "source": [
    "# Data Modeling"
   ]
  },
  {
   "cell_type": "code",
   "execution_count": 5,
   "id": "e4e5b13d",
   "metadata": {
    "execution": {
     "iopub.execute_input": "2023-11-15T10:06:19.315015Z",
     "iopub.status.busy": "2023-11-15T10:06:19.314514Z",
     "iopub.status.idle": "2023-11-15T10:06:19.328500Z",
     "shell.execute_reply": "2023-11-15T10:06:19.327090Z"
    },
    "papermill": {
     "duration": 0.025459,
     "end_time": "2023-11-15T10:06:19.331084",
     "exception": false,
     "start_time": "2023-11-15T10:06:19.305625",
     "status": "completed"
    },
    "tags": []
   },
   "outputs": [],
   "source": [
    "# Preparing our dataset for training\n",
    "X = social_df.iloc[:, [1, 2 ,3]].values\n",
    "y = social_df.iloc[:, 4].values"
   ]
  },
  {
   "cell_type": "code",
   "execution_count": 6,
   "id": "c838b773",
   "metadata": {
    "execution": {
     "iopub.execute_input": "2023-11-15T10:06:19.348320Z",
     "iopub.status.busy": "2023-11-15T10:06:19.347458Z",
     "iopub.status.idle": "2023-11-15T10:06:20.883910Z",
     "shell.execute_reply": "2023-11-15T10:06:20.882518Z"
    },
    "papermill": {
     "duration": 1.548828,
     "end_time": "2023-11-15T10:06:20.887372",
     "exception": false,
     "start_time": "2023-11-15T10:06:19.338544",
     "status": "completed"
    },
    "tags": []
   },
   "outputs": [],
   "source": [
    "# Splitting the dataset into a training set and test set\n",
    "from sklearn.model_selection import train_test_split\n",
    "X_train, X_test, y_train, y_test = train_test_split(X, y, test_size = 0.25, random_state = 42)"
   ]
  },
  {
   "cell_type": "code",
   "execution_count": 7,
   "id": "86cd95db",
   "metadata": {
    "execution": {
     "iopub.execute_input": "2023-11-15T10:06:20.904664Z",
     "iopub.status.busy": "2023-11-15T10:06:20.904181Z",
     "iopub.status.idle": "2023-11-15T10:06:20.912505Z",
     "shell.execute_reply": "2023-11-15T10:06:20.911251Z"
    },
    "papermill": {
     "duration": 0.019977,
     "end_time": "2023-11-15T10:06:20.915117",
     "exception": false,
     "start_time": "2023-11-15T10:06:20.895140",
     "status": "completed"
    },
    "tags": []
   },
   "outputs": [],
   "source": [
    "# Normalisation\n",
    "from sklearn.preprocessing import MinMaxScaler\n",
    "norm = MinMaxScaler().fit(X_train)\n",
    "X_train = norm.transform(X_train)\n",
    "X_test = norm.transform(X_test)"
   ]
  },
  {
   "cell_type": "code",
   "execution_count": 8,
   "id": "25c52280",
   "metadata": {
    "execution": {
     "iopub.execute_input": "2023-11-15T10:06:20.931705Z",
     "iopub.status.busy": "2023-11-15T10:06:20.931238Z",
     "iopub.status.idle": "2023-11-15T10:06:21.307045Z",
     "shell.execute_reply": "2023-11-15T10:06:21.305796Z"
    },
    "papermill": {
     "duration": 0.387534,
     "end_time": "2023-11-15T10:06:21.309839",
     "exception": false,
     "start_time": "2023-11-15T10:06:20.922305",
     "status": "completed"
    },
    "tags": []
   },
   "outputs": [
    {
     "data": {
      "text/plain": [
       "KNeighborsClassifier()"
      ]
     },
     "execution_count": 8,
     "metadata": {},
     "output_type": "execute_result"
    }
   ],
   "source": [
    "from sklearn.neighbors import KNeighborsClassifier\n",
    "\n",
    "knn_classifier = KNeighborsClassifier()\n",
    "\n",
    "# Using these classifiers to fit our data, X_train and y_train\n",
    "knn_classifier.fit(X_train, y_train)\n"
   ]
  },
  {
   "cell_type": "code",
   "execution_count": 9,
   "id": "c6bee02a",
   "metadata": {
    "execution": {
     "iopub.execute_input": "2023-11-15T10:06:21.327629Z",
     "iopub.status.busy": "2023-11-15T10:06:21.326254Z",
     "iopub.status.idle": "2023-11-15T10:06:21.346096Z",
     "shell.execute_reply": "2023-11-15T10:06:21.344450Z"
    },
    "papermill": {
     "duration": 0.032167,
     "end_time": "2023-11-15T10:06:21.349393",
     "exception": false,
     "start_time": "2023-11-15T10:06:21.317226",
     "status": "completed"
    },
    "tags": []
   },
   "outputs": [
    {
     "name": "stderr",
     "output_type": "stream",
     "text": [
      "C:\\Users\\shubh\\anaconda3\\lib\\site-packages\\sklearn\\neighbors\\_classification.py:228: FutureWarning: Unlike other reduction functions (e.g. `skew`, `kurtosis`), the default behavior of `mode` typically preserves the axis it acts along. In SciPy 1.11.0, this behavior will change: the default value of `keepdims` will become False, the `axis` over which the statistic is taken will be eliminated, and the value None will no longer be accepted. Set `keepdims` to True or False to avoid this warning.\n",
      "  mode, _ = stats.mode(_y[neigh_ind, k], axis=1)\n"
     ]
    }
   ],
   "source": [
    "# Predicting the test set results\n",
    "knn_y_prediction = knn_classifier.predict(X_test)"
   ]
  },
  {
   "cell_type": "code",
   "execution_count": 10,
   "id": "182c2ea0",
   "metadata": {
    "execution": {
     "iopub.execute_input": "2023-11-15T10:06:21.367287Z",
     "iopub.status.busy": "2023-11-15T10:06:21.366240Z",
     "iopub.status.idle": "2023-11-15T10:06:21.380013Z",
     "shell.execute_reply": "2023-11-15T10:06:21.378576Z"
    },
    "papermill": {
     "duration": 0.025743,
     "end_time": "2023-11-15T10:06:21.382811",
     "exception": false,
     "start_time": "2023-11-15T10:06:21.357068",
     "status": "completed"
    },
    "tags": []
   },
   "outputs": [
    {
     "name": "stdout",
     "output_type": "stream",
     "text": [
      "0.92\n"
     ]
    }
   ],
   "source": [
    "# Printing the evaluation metrics to determine the accuracy of classifiers\n",
    "from sklearn.metrics import classification_report, accuracy_score\n",
    "\n",
    "\n",
    "print(accuracy_score(knn_y_prediction, y_test))"
   ]
  },
  {
   "cell_type": "code",
   "execution_count": 11,
   "id": "3ca30668",
   "metadata": {
    "execution": {
     "iopub.execute_input": "2023-11-15T10:06:21.401238Z",
     "iopub.status.busy": "2023-11-15T10:06:21.400748Z",
     "iopub.status.idle": "2023-11-15T10:06:21.449896Z",
     "shell.execute_reply": "2023-11-15T10:06:21.448485Z"
    },
    "papermill": {
     "duration": 0.062419,
     "end_time": "2023-11-15T10:06:21.453083",
     "exception": false,
     "start_time": "2023-11-15T10:06:21.390664",
     "status": "completed"
    },
    "tags": []
   },
   "outputs": [
    {
     "name": "stdout",
     "output_type": "stream",
     "text": [
      "KNN Classifier:\n",
      "              precision    recall  f1-score   support\n",
      "\n",
      "           0       0.95      0.92      0.94        63\n",
      "           1       0.87      0.92      0.89        37\n",
      "\n",
      "    accuracy                           0.92       100\n",
      "   macro avg       0.91      0.92      0.92       100\n",
      "weighted avg       0.92      0.92      0.92       100\n",
      "\n"
     ]
    }
   ],
   "source": [
    "# Printing the classification report\n",
    "print('KNN Classifier:')\n",
    "print(classification_report(y_test, knn_y_prediction))"
   ]
  },
  {
   "cell_type": "code",
   "execution_count": 12,
   "id": "c2706a57",
   "metadata": {
    "execution": {
     "iopub.execute_input": "2023-11-15T10:06:21.470720Z",
     "iopub.status.busy": "2023-11-15T10:06:21.470269Z",
     "iopub.status.idle": "2023-11-15T10:06:21.484937Z",
     "shell.execute_reply": "2023-11-15T10:06:21.483661Z"
    },
    "papermill": {
     "duration": 0.026803,
     "end_time": "2023-11-15T10:06:21.487586",
     "exception": false,
     "start_time": "2023-11-15T10:06:21.460783",
     "status": "completed"
    },
    "tags": []
   },
   "outputs": [
    {
     "name": "stdout",
     "output_type": "stream",
     "text": [
      "KNN Classifier:\n",
      "[[58  3]\n",
      " [ 5 34]]\n"
     ]
    }
   ],
   "source": [
    "# Using a confusion matrix to determine the accuracy of our model\n",
    "from sklearn.metrics import confusion_matrix\n",
    "\n",
    "print('KNN Classifier:')\n",
    "print(confusion_matrix(knn_y_prediction, y_test))"
   ]
  },
  {
   "cell_type": "code",
   "execution_count": 13,
   "id": "c3753ad2",
   "metadata": {
    "execution": {
     "iopub.execute_input": "2023-11-15T10:06:21.506258Z",
     "iopub.status.busy": "2023-11-15T10:06:21.505786Z",
     "iopub.status.idle": "2023-11-15T10:06:21.520203Z",
     "shell.execute_reply": "2023-11-15T10:06:21.518404Z"
    },
    "papermill": {
     "duration": 0.02718,
     "end_time": "2023-11-15T10:06:21.523298",
     "exception": false,
     "start_time": "2023-11-15T10:06:21.496118",
     "status": "completed"
    },
    "tags": []
   },
   "outputs": [
    {
     "name": "stdout",
     "output_type": "stream",
     "text": [
      "KNN classifier: [1]\n"
     ]
    },
    {
     "name": "stderr",
     "output_type": "stream",
     "text": [
      "C:\\Users\\shubh\\anaconda3\\lib\\site-packages\\sklearn\\neighbors\\_classification.py:228: FutureWarning: Unlike other reduction functions (e.g. `skew`, `kurtosis`), the default behavior of `mode` typically preserves the axis it acts along. In SciPy 1.11.0, this behavior will change: the default value of `keepdims` will become False, the `axis` over which the statistic is taken will be eliminated, and the value None will no longer be accepted. Set `keepdims` to True or False to avoid this warning.\n",
      "  mode, _ = stats.mode(_y[neigh_ind, k], axis=1)\n"
     ]
    }
   ],
   "source": [
    "# Making a new prediction & comparing results\n",
    "new_case = [[0, 60, 2500]] # Gender, Age, Salary\n",
    "\n",
    "# We will need to transform our new case\n",
    "new_case = norm.transform(new_case)\n",
    "\n",
    "print('KNN classifier:', knn_classifier.predict(new_case))"
   ]
  }
 ],
 "metadata": {
  "kaggle": {
   "accelerator": "none",
   "dataSources": [
    {
     "datasetId": 1846,
     "sourceId": 3197,
     "sourceType": "datasetVersion"
    }
   ],
   "dockerImageVersionId": 30579,
   "isGpuEnabled": false,
   "isInternetEnabled": true,
   "language": "python",
   "sourceType": "notebook"
  },
  "kernelspec": {
   "display_name": "Python 3 (ipykernel)",
   "language": "python",
   "name": "python3"
  },
  "language_info": {
   "codemirror_mode": {
    "name": "ipython",
    "version": 3
   },
   "file_extension": ".py",
   "mimetype": "text/x-python",
   "name": "python",
   "nbconvert_exporter": "python",
   "pygments_lexer": "ipython3",
   "version": "3.9.13"
  },
  "papermill": {
   "default_parameters": {},
   "duration": 7.366419,
   "end_time": "2023-11-15T10:06:22.254869",
   "environment_variables": {},
   "exception": null,
   "input_path": "__notebook__.ipynb",
   "output_path": "__notebook__.ipynb",
   "parameters": {},
   "start_time": "2023-11-15T10:06:14.888450",
   "version": "2.4.0"
  }
 },
 "nbformat": 4,
 "nbformat_minor": 5
}
