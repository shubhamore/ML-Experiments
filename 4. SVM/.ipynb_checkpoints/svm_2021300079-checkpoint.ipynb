{
 "cells": [
  {
   "cell_type": "markdown",
   "metadata": {},
   "source": [
    "# Support Vector Machine (SVM)\n",
    "\n",
    "## Basic Concepts\n",
    "\n",
    "Support Vector Machine (SVM) is a supervised machine learning algorithm used for classification and regression tasks. It is particularly effective in high-dimensional spaces and is widely used in pattern recognition, text classification, image recognition, and bioinformatics.\n",
    "\n",
    "### Linear Separability\n",
    "SVM finds the hyperplane that best separates classes in a feature space. If the classes are linearly separable, SVM finds the optimal hyperplane with maximum margin, which is the distance between the hyperplane and the nearest data points from each class.\n",
    "\n",
    "### Kernel Trick\n",
    "SVM can also handle non-linearly separable data by transforming the input space into a higher-dimensional space through a process called the kernel trick. This allows SVM to find non-linear decision boundaries in the original input space.\n",
    "\n",
    "### Margin\n",
    "The margin in SVM refers to the distance between the hyperplane and the closest data point from either class. Maximizing the margin leads to better generalization and helps in reducing overfitting.\n",
    "\n",
    "### Support Vectors\n",
    "Support vectors are the data points closest to the hyperplane and have a non-zero influence on determining the hyperplane. These points are critical in defining the decision boundary.\n",
    "\n",
    "### Regularization Parameter (C)\n",
    "The regularization parameter (C) in SVM controls the trade-off between maximizing the margin and minimizing the classification error on the training data. A smaller value of C allows for a larger margin but may lead to misclassification of some training examples, while a larger value of C may result in a smaller margin but fewer misclassifications.\n",
    "\n",
    "### Kernel Functions\n",
    "Kernel functions are used to implicitly map the input data into a higher-dimensional space. Common kernel functions include linear, polynomial, radial basis function (RBF), and sigmoid kernels. The choice of kernel function depends on the problem domain and the nature of the data.\n",
    "\n",
    "## Implementation Steps\n",
    "\n",
    "1. **Data Preprocessing**: SVM requires preprocessing steps such as feature scaling and normalization to ensure that all features contribute equally to the decision boundary.\n",
    "\n",
    "2. **Model Training**: SVM learns the optimal hyperplane by maximizing the margin between classes. This involves solving an optimization problem using techniques such as quadratic programming.\n",
    "\n",
    "3. **Kernel Selection**: Choosing the appropriate kernel function is crucial for achieving good classification performance. Experimentation with different kernels and parameters may be necessary to find the best configuration.\n",
    "\n",
    "4. **Model Evaluation**: Evaluation metrics such as accuracy, precision, recall, F1-score, and ROC curves are used to assess the performance of the SVM model on both training and test datasets. Cross-validation techniques help in estimating the generalization performance of the model.\n",
    "\n",
    "5. **Hyperparameter Tuning**: Tuning the regularization parameter (C) and kernel parameters is essential for optimizing the SVM model's performance. Techniques like grid search or randomized search can be employed to find the best hyperparameters.\n",
    "\n",
    "## Analysis\n",
    "\n",
    "1. **Decision Boundary Visualization**: Visualizing the decision boundary helps in understanding how SVM separates different classes in the feature space.\n",
    "\n",
    "2. **Impact of Hyperparameters**: Analyzing the effect of varying hyperparameters such as C and kernel parameters on the model's performance provides insights into the trade-offs involved in SVM.\n",
    "\n",
    "3. **Comparison with Other Algorithms**: Comparing SVM with other classification algorithms like logistic regression, decision trees, or random forests helps in assessing its relative strengths and weaknesses.\n",
    "\n",
    "4. **Robustness and Generalization**: Testing the SVM model on unseen data and analyzing its performance under different scenarios helps in assessing its robustness and generalization capabilities.\n",
    "\n",
    "5. **Interpretability**: Understanding the role of support vectors and how they influence the decision boundary can provide insights into the underlying patterns in the data.\n",
    "\n",
    "## Conclusion\n",
    "\n",
    "In conclusion, implementing and analyzing classification using SVM algorithm involves understanding its basic concepts, choosing appropriate hyperparameters, evaluating model performance, and interpreting the results to gain insights into the data. SVM offers a powerful framework for solving classification problems, especially in scenarios where the data is high-dimensional or non-linearly separable. By carefully tuning hyperparameters and analyzing the model's behavior, one can build robust and accurate classifiers using SVM.\n",
    "\n",
    "\n",
    "Dataset used from https://www.kaggle.com/datasets/rakeshrau/social-network-ads"
   ]
  },
  {
   "cell_type": "markdown",
   "metadata": {},
   "source": [
    "### Importing the libraries"
   ]
  },
  {
   "cell_type": "code",
   "execution_count": 1,
   "metadata": {},
   "outputs": [],
   "source": [
    "import numpy as np\n",
    "import pandas as pd\n",
    "import matplotlib.pyplot as plt\n",
    "import seaborn as sns"
   ]
  },
  {
   "cell_type": "markdown",
   "metadata": {},
   "source": [
    "### Importing the datase"
   ]
  },
  {
   "cell_type": "code",
   "execution_count": 2,
   "metadata": {},
   "outputs": [],
   "source": [
    "df = pd.read_csv('./Social_Network_Ads.csv')\n",
    "df[\"Gender\"] = np.where(df[\"Gender\"].str.contains(\"Male\", \"Female\"), 1, 0)\n",
    "X = df.iloc[:, [1,2,3]].values\n",
    "y = df.iloc[:, -1].values"
   ]
  },
  {
   "cell_type": "markdown",
   "metadata": {},
   "source": [
    "### Splitting the dataset"
   ]
  },
  {
   "cell_type": "code",
   "execution_count": 3,
   "metadata": {},
   "outputs": [],
   "source": [
    "from sklearn.model_selection import train_test_split\n",
    "X_train, X_test, y_train, y_test = train_test_split(X, y, test_size=0.25, random_state=0)"
   ]
  },
  {
   "cell_type": "markdown",
   "metadata": {},
   "source": [
    "### Feature scaling"
   ]
  },
  {
   "cell_type": "code",
   "execution_count": 4,
   "metadata": {},
   "outputs": [],
   "source": [
    "from sklearn.preprocessing import StandardScaler\n",
    "ss_X = StandardScaler()\n",
    "X_train = ss_X.fit_transform(X_train)\n",
    "X_test = ss_X.transform(X_test)"
   ]
  },
  {
   "cell_type": "markdown",
   "metadata": {},
   "source": [
    "### Creating the model (Linear Kernel)"
   ]
  },
  {
   "cell_type": "code",
   "execution_count": 5,
   "metadata": {},
   "outputs": [
    {
     "data": {
      "text/plain": [
       "SVC(kernel='linear')"
      ]
     },
     "execution_count": 5,
     "metadata": {},
     "output_type": "execute_result"
    }
   ],
   "source": [
    "from sklearn.svm import SVC\n",
    "classifier = SVC(kernel='linear')\n",
    "classifier.fit(X_train, y_train)"
   ]
  },
  {
   "cell_type": "markdown",
   "metadata": {},
   "source": [
    "### Predicting using the test set"
   ]
  },
  {
   "cell_type": "code",
   "execution_count": 6,
   "metadata": {
    "scrolled": true
   },
   "outputs": [],
   "source": [
    "y_pred = classifier.predict(X_test)\n"
   ]
  },
  {
   "cell_type": "markdown",
   "metadata": {},
   "source": [
    "### Evaluating the model"
   ]
  },
  {
   "cell_type": "code",
   "execution_count": 7,
   "metadata": {
    "scrolled": true
   },
   "outputs": [
    {
     "data": {
      "text/plain": [
       "<AxesSubplot:>"
      ]
     },
     "execution_count": 7,
     "metadata": {},
     "output_type": "execute_result"
    },
    {
     "data": {
      "image/png": "[encoded data removed]",
      "text/plain": [
       "<Figure size 640x480 with 2 Axes>"
      ]
     },
     "metadata": {},
     "output_type": "display_data"
    }
   ],
   "source": [
    "from sklearn import metrics\n",
    "from sklearn.metrics import confusion_matrix\n",
    "cm = confusion_matrix(y_test, y_pred)\n",
    "cm_matrix = pd.DataFrame(data=cm, columns=['Actual Positive:1', 'Actual Negative:0'],\n",
    "                                 index=['Predict Positive:1', 'Predict Negative:0'])\n",
    "\n",
    "sns.heatmap(cm_matrix, annot=True, fmt='d', cmap='mako')"
   ]
  },
  {
   "cell_type": "code",
   "execution_count": 8,
   "metadata": {},
   "outputs": [
    {
     "name": "stdout",
     "output_type": "stream",
     "text": [
      "              precision    recall  f1-score   support\n",
      "\n",
      "           0       0.88      0.97      0.92        68\n",
      "           1       0.92      0.72      0.81        32\n",
      "\n",
      "    accuracy                           0.89       100\n",
      "   macro avg       0.90      0.84      0.87       100\n",
      "weighted avg       0.89      0.89      0.89       100\n",
      "\n"
     ]
    }
   ],
   "source": [
    "from sklearn.metrics import classification_report\n",
    "print(classification_report(y_test,y_pred))"
   ]
  },
  {
   "cell_type": "markdown",
   "metadata": {},
   "source": [
    "### Creating the model (RBF Kernel)"
   ]
  },
  {
   "cell_type": "code",
   "execution_count": 9,
   "metadata": {},
   "outputs": [
    {
     "data": {
      "text/plain": [
       "SVC()"
      ]
     },
     "execution_count": 9,
     "metadata": {},
     "output_type": "execute_result"
    }
   ],
   "source": [
    "classifier = SVC(kernel='rbf')\n",
    "classifier.fit(X_train, y_train)"
   ]
  },
  {
   "cell_type": "markdown",
   "metadata": {},
   "source": [
    "### Predicting using the test set"
   ]
  },
  {
   "cell_type": "code",
   "execution_count": 10,
   "metadata": {},
   "outputs": [],
   "source": [
    "y_pred = classifier.predict(X_test)"
   ]
  },
  {
   "cell_type": "markdown",
   "metadata": {},
   "source": [
    "### Evaluating the model"
   ]
  },
  {
   "cell_type": "code",
   "execution_count": 11,
   "metadata": {},
   "outputs": [
    {
     "data": {
      "text/plain": [
       "<AxesSubplot:>"
      ]
     },
     "execution_count": 11,
     "metadata": {},
     "output_type": "execute_result"
    },
    {
     "data": {
      "image/png": "[encoded data removed]",
      "text/plain": [
       "<Figure size 640x480 with 2 Axes>"
      ]
     },
     "metadata": {},
     "output_type": "display_data"
    }
   ],
   "source": [
    "cm = confusion_matrix(y_test, y_pred)\n",
    "cm_matrix = pd.DataFrame(data=cm, columns=['Actual Positive:1', 'Actual Negative:0'],\n",
    "                                 index=['Predict Positive:1', 'Predict Negative:0'])\n",
    "\n",
    "sns.heatmap(cm_matrix, annot=True, fmt='d', cmap='mako')"
   ]
  },
  {
   "cell_type": "code",
   "execution_count": 12,
   "metadata": {},
   "outputs": [
    {
     "name": "stdout",
     "output_type": "stream",
     "text": [
      "              precision    recall  f1-score   support\n",
      "\n",
      "           0       0.96      0.94      0.95        68\n",
      "           1       0.88      0.91      0.89        32\n",
      "\n",
      "    accuracy                           0.93       100\n",
      "   macro avg       0.92      0.92      0.92       100\n",
      "weighted avg       0.93      0.93      0.93       100\n",
      "\n"
     ]
    }
   ],
   "source": [
    "print(classification_report(y_test,y_pred))"
   ]
  },
  {
   "cell_type": "markdown",
   "metadata": {},
   "source": [
    "### Creating the model (Polynomial Kernel)"
   ]
  },
  {
   "cell_type": "code",
   "execution_count": 13,
   "metadata": {},
   "outputs": [
    {
     "data": {
      "text/plain": [
       "SVC(kernel='poly')"
      ]
     },
     "execution_count": 13,
     "metadata": {},
     "output_type": "execute_result"
    }
   ],
   "source": [
    "classifier = SVC(kernel='poly')\n",
    "classifier.fit(X_train, y_train)"
   ]
  },
  {
   "cell_type": "markdown",
   "metadata": {},
   "source": [
    "### Predicting using the test set"
   ]
  },
  {
   "cell_type": "code",
   "execution_count": 14,
   "metadata": {},
   "outputs": [],
   "source": [
    "y_pred = classifier.predict(X_test)"
   ]
  },
  {
   "cell_type": "markdown",
   "metadata": {},
   "source": [
    "### Evaluating the model"
   ]
  },
  {
   "cell_type": "code",
   "execution_count": 15,
   "metadata": {},
   "outputs": [
    {
     "data": {
      "text/plain": [
       "<AxesSubplot:>"
      ]
     },
     "execution_count": 15,
     "metadata": {},
     "output_type": "execute_result"
    },
    {
     "data": {
      "image/png": "[encoded data removed]",
      "text/plain": [
       "<Figure size 640x480 with 2 Axes>"
      ]
     },
     "metadata": {},
     "output_type": "display_data"
    }
   ],
   "source": [
    "cm = confusion_matrix(y_test, y_pred)\n",
    "cm_matrix = pd.DataFrame(data=cm, columns=['Actual Positive:1', 'Actual Negative:0'],\n",
    "                                 index=['Predict Positive:1', 'Predict Negative:0'])\n",
    "\n",
    "sns.heatmap(cm_matrix, annot=True, fmt='d', cmap='mako')"
   ]
  },
  {
   "cell_type": "code",
   "execution_count": 16,
   "metadata": {},
   "outputs": [
    {
     "name": "stdout",
     "output_type": "stream",
     "text": [
      "              precision    recall  f1-score   support\n",
      "\n",
      "           0       0.90      0.96      0.93        68\n",
      "           1       0.89      0.78      0.83        32\n",
      "\n",
      "    accuracy                           0.90       100\n",
      "   macro avg       0.90      0.87      0.88       100\n",
      "weighted avg       0.90      0.90      0.90       100\n",
      "\n"
     ]
    }
   ],
   "source": [
    "print(classification_report(y_test,y_pred))"
   ]
  },
  {
   "cell_type": "markdown",
   "metadata": {},
   "source": [
    "### Creating the model (Sigmoid Kernel)"
   ]
  },
  {
   "cell_type": "code",
   "execution_count": 17,
   "metadata": {},
   "outputs": [
    {
     "data": {
      "text/plain": [
       "SVC(kernel='sigmoid')"
      ]
     },
     "execution_count": 17,
     "metadata": {},
     "output_type": "execute_result"
    }
   ],
   "source": [
    "classifier = SVC(kernel='sigmoid')\n",
    "classifier.fit(X_train, y_train)"
   ]
  },
  {
   "cell_type": "markdown",
   "metadata": {},
   "source": [
    "### Predicting using the test set"
   ]
  },
  {
   "cell_type": "code",
   "execution_count": 18,
   "metadata": {},
   "outputs": [],
   "source": [
    "y_pred = classifier.predict(X_test)"
   ]
  },
  {
   "cell_type": "markdown",
   "metadata": {},
   "source": [
    "### Evaluating the model"
   ]
  },
  {
   "cell_type": "code",
   "execution_count": 19,
   "metadata": {},
   "outputs": [
    {
     "data": {
      "text/plain": [
       "<AxesSubplot:>"
      ]
     },
     "execution_count": 19,
     "metadata": {},
     "output_type": "execute_result"
    },
    {
     "data": {
      "image/png": "[encoded data removed]",
      "text/plain": [
       "<Figure size 640x480 with 2 Axes>"
      ]
     },
     "metadata": {},
     "output_type": "display_data"
    }
   ],
   "source": [
    "cm = confusion_matrix(y_test, y_pred)\n",
    "cm_matrix = pd.DataFrame(data=cm, columns=['Actual Positive:1', 'Actual Negative:0'],\n",
    "                                 index=['Predict Positive:1', 'Predict Negative:0'])\n",
    "\n",
    "sns.heatmap(cm_matrix, annot=True, fmt='d', cmap='mako')"
   ]
  },
  {
   "cell_type": "code",
   "execution_count": 20,
   "metadata": {},
   "outputs": [
    {
     "name": "stdout",
     "output_type": "stream",
     "text": [
      "              precision    recall  f1-score   support\n",
      "\n",
      "           0       0.86      0.93      0.89        68\n",
      "           1       0.81      0.69      0.75        32\n",
      "\n",
      "    accuracy                           0.85       100\n",
      "   macro avg       0.84      0.81      0.82       100\n",
      "weighted avg       0.85      0.85      0.85       100\n",
      "\n"
     ]
    }
   ],
   "source": [
    "print(classification_report(y_test,y_pred))"
   ]
  },
  {
   "cell_type": "code",
   "execution_count": 21,
   "metadata": {},
   "outputs": [
    {
     "data": {
      "text/html": [
       "<style type=\"text/css\">\n",
       "#T_98a50_row0_col0, #T_98a50_row0_col1, #T_98a50_row1_col0, #T_98a50_row1_col1, #T_98a50_row2_col0, #T_98a50_row2_col1, #T_98a50_row3_col0, #T_98a50_row3_col1 {\n",
       "  text-align: left;\n",
       "}\n",
       "</style>\n",
       "<table id=\"T_98a50\">\n",
       "  <thead>\n",
       "    <tr>\n",
       "      <th class=\"blank level0\" >&nbsp;</th>\n",
       "      <th id=\"T_98a50_level0_col0\" class=\"col_heading level0 col0\" >kernels</th>\n",
       "      <th id=\"T_98a50_level0_col1\" class=\"col_heading level0 col1\" >reasons</th>\n",
       "    </tr>\n",
       "  </thead>\n",
       "  <tbody>\n",
       "    <tr>\n",
       "      <th id=\"T_98a50_level0_row0\" class=\"row_heading level0 row0\" >0</th>\n",
       "      <td id=\"T_98a50_row0_col0\" class=\"data row0 col0\" >linear</td>\n",
       "      <td id=\"T_98a50_row0_col1\" class=\"data row0 col1\" >Data that can be seperated by single line</td>\n",
       "    </tr>\n",
       "    <tr>\n",
       "      <th id=\"T_98a50_level0_row1\" class=\"row_heading level0 row1\" >1</th>\n",
       "      <td id=\"T_98a50_row1_col0\" class=\"data row1 col0\" >rbf</td>\n",
       "      <td id=\"T_98a50_row1_col1\" class=\"data row1 col1\" >RBF seperates the data which can be represented using more that multi dimension</td>\n",
       "    </tr>\n",
       "    <tr>\n",
       "      <th id=\"T_98a50_level0_row2\" class=\"row_heading level0 row2\" >2</th>\n",
       "      <td id=\"T_98a50_row2_col0\" class=\"data row2 col0\" >poly</td>\n",
       "      <td id=\"T_98a50_row2_col1\" class=\"data row2 col1\" >To classify the polynomial dataset</td>\n",
       "    </tr>\n",
       "    <tr>\n",
       "      <th id=\"T_98a50_level0_row3\" class=\"row_heading level0 row3\" >3</th>\n",
       "      <td id=\"T_98a50_row3_col0\" class=\"data row3 col0\" >sigmoid</td>\n",
       "      <td id=\"T_98a50_row3_col1\" class=\"data row3 col1\" >Similar to creating neural network</td>\n",
       "    </tr>\n",
       "  </tbody>\n",
       "</table>\n"
      ],
      "text/plain": [
       "<pandas.io.formats.style.Styler at 0x27895b051c0>"
      ]
     },
     "execution_count": 21,
     "metadata": {},
     "output_type": "execute_result"
    }
   ],
   "source": [
    "import pandas as pd\n",
    "d={\n",
    "    'kernels':['linear','rbf','poly','sigmoid'],\n",
    "    'reasons':[\"Data that can be seperated by single line\",\"RBF seperates the data which can be represented using more that multi dimension\",\"To classify the polynomial dataset\",\"Similar to creating neural network\"]\n",
    "}\n",
    "df = pd.DataFrame(d)\n",
    "\n",
    "# Style the DataFrame to center-align field names\n",
    "styled_df = df.style.set_properties(**{'text-align': 'left'})\n",
    "\n",
    "# Display the styled DataFrame\n",
    "styled_df"
   ]
  },
  {
   "cell_type": "code",
   "execution_count": 22,
   "metadata": {},
   "outputs": [
    {
     "data": {
      "text/html": [
       "<style type=\"text/css\">\n",
       "#T_82d54_row0_col0, #T_82d54_row0_col1, #T_82d54_row0_col2, #T_82d54_row0_col3, #T_82d54_row0_col4, #T_82d54_row0_col5, #T_82d54_row1_col0, #T_82d54_row1_col1, #T_82d54_row1_col2, #T_82d54_row1_col3, #T_82d54_row1_col4, #T_82d54_row1_col5, #T_82d54_row2_col0, #T_82d54_row2_col1, #T_82d54_row2_col2, #T_82d54_row2_col3, #T_82d54_row2_col4, #T_82d54_row2_col5, #T_82d54_row3_col0, #T_82d54_row3_col1, #T_82d54_row3_col2, #T_82d54_row3_col3, #T_82d54_row3_col4, #T_82d54_row3_col5, #T_82d54_row4_col0, #T_82d54_row4_col1, #T_82d54_row4_col2, #T_82d54_row4_col3, #T_82d54_row4_col4, #T_82d54_row4_col5 {\n",
       "  text-align: center;\n",
       "}\n",
       "</style>\n",
       "<table id=\"T_82d54\">\n",
       "  <thead>\n",
       "    <tr>\n",
       "      <th class=\"blank level0\" >&nbsp;</th>\n",
       "      <th id=\"T_82d54_level0_col0\" class=\"col_heading level0 col0\" >Model</th>\n",
       "      <th id=\"T_82d54_level0_col1\" class=\"col_heading level0 col1\" >Accuracy</th>\n",
       "      <th id=\"T_82d54_level0_col2\" class=\"col_heading level0 col2\" >Precision</th>\n",
       "      <th id=\"T_82d54_level0_col3\" class=\"col_heading level0 col3\" >Recall</th>\n",
       "      <th id=\"T_82d54_level0_col4\" class=\"col_heading level0 col4\" >F1-Score</th>\n",
       "      <th id=\"T_82d54_level0_col5\" class=\"col_heading level0 col5\" >Observation</th>\n",
       "    </tr>\n",
       "  </thead>\n",
       "  <tbody>\n",
       "    <tr>\n",
       "      <th id=\"T_82d54_level0_row0\" class=\"row_heading level0 row0\" >0</th>\n",
       "      <td id=\"T_82d54_row0_col0\" class=\"data row0 col0\" >KNN</td>\n",
       "      <td id=\"T_82d54_row0_col1\" class=\"data row0 col1\" >0.920000</td>\n",
       "      <td id=\"T_82d54_row0_col2\" class=\"data row0 col2\" >0.950000</td>\n",
       "      <td id=\"T_82d54_row0_col3\" class=\"data row0 col3\" >0.920000</td>\n",
       "      <td id=\"T_82d54_row0_col4\" class=\"data row0 col4\" >0.940000</td>\n",
       "      <td id=\"T_82d54_row0_col5\" class=\"data row0 col5\" >Balanced performance across metrics due to its simple yet effective approach of classifying data points based on nearest neighbors.</td>\n",
       "    </tr>\n",
       "    <tr>\n",
       "      <th id=\"T_82d54_level0_row1\" class=\"row_heading level0 row1\" >1</th>\n",
       "      <td id=\"T_82d54_row1_col0\" class=\"data row1 col0\" >SVM (linear)</td>\n",
       "      <td id=\"T_82d54_row1_col1\" class=\"data row1 col1\" >0.890000</td>\n",
       "      <td id=\"T_82d54_row1_col2\" class=\"data row1 col2\" >0.880000</td>\n",
       "      <td id=\"T_82d54_row1_col3\" class=\"data row1 col3\" >0.970000</td>\n",
       "      <td id=\"T_82d54_row1_col4\" class=\"data row1 col4\" >0.920000</td>\n",
       "      <td id=\"T_82d54_row1_col5\" class=\"data row1 col5\" >Lower accuracy may be due to the linear separation of classes, but high recall suggests effective identification of positive cases.</td>\n",
       "    </tr>\n",
       "    <tr>\n",
       "      <th id=\"T_82d54_level0_row2\" class=\"row_heading level0 row2\" >2</th>\n",
       "      <td id=\"T_82d54_row2_col0\" class=\"data row2 col0\" >SVM (rbf)</td>\n",
       "      <td id=\"T_82d54_row2_col1\" class=\"data row2 col1\" >0.930000</td>\n",
       "      <td id=\"T_82d54_row2_col2\" class=\"data row2 col2\" >0.960000</td>\n",
       "      <td id=\"T_82d54_row2_col3\" class=\"data row2 col3\" >0.940000</td>\n",
       "      <td id=\"T_82d54_row2_col4\" class=\"data row2 col4\" >0.950000</td>\n",
       "      <td id=\"T_82d54_row2_col5\" class=\"data row2 col5\" >Achieved highest accuracy and precision by effectively capturing complex nonlinear relationships in the data.</td>\n",
       "    </tr>\n",
       "    <tr>\n",
       "      <th id=\"T_82d54_level0_row3\" class=\"row_heading level0 row3\" >3</th>\n",
       "      <td id=\"T_82d54_row3_col0\" class=\"data row3 col0\" >SVM (polynomial)</td>\n",
       "      <td id=\"T_82d54_row3_col1\" class=\"data row3 col1\" >0.900000</td>\n",
       "      <td id=\"T_82d54_row3_col2\" class=\"data row3 col2\" >0.900000</td>\n",
       "      <td id=\"T_82d54_row3_col3\" class=\"data row3 col3\" >0.960000</td>\n",
       "      <td id=\"T_82d54_row3_col4\" class=\"data row3 col4\" >0.930000</td>\n",
       "      <td id=\"T_82d54_row3_col5\" class=\"data row3 col5\" >Maintained a good balance between precision and recall by effectively capturing nonlinear relationships with a polynomial kernel.</td>\n",
       "    </tr>\n",
       "    <tr>\n",
       "      <th id=\"T_82d54_level0_row4\" class=\"row_heading level0 row4\" >4</th>\n",
       "      <td id=\"T_82d54_row4_col0\" class=\"data row4 col0\" >SVM (sigmoid)</td>\n",
       "      <td id=\"T_82d54_row4_col1\" class=\"data row4 col1\" >0.850000</td>\n",
       "      <td id=\"T_82d54_row4_col2\" class=\"data row4 col2\" >0.860000</td>\n",
       "      <td id=\"T_82d54_row4_col3\" class=\"data row4 col3\" >0.930000</td>\n",
       "      <td id=\"T_82d54_row4_col4\" class=\"data row4 col4\" >0.890000</td>\n",
       "      <td id=\"T_82d54_row4_col5\" class=\"data row4 col5\" >Despite lower accuracy, maintains reasonable precision and recall, possibly due to its ability to capture complex relationships, albeit less effectively compared to other kernels.</td>\n",
       "    </tr>\n",
       "  </tbody>\n",
       "</table>\n"
      ],
      "text/plain": [
       "<pandas.io.formats.style.Styler at 0x27895beb130>"
      ]
     },
     "execution_count": 22,
     "metadata": {},
     "output_type": "execute_result"
    }
   ],
   "source": [
    "import pandas as pd\n",
    "\n",
    "# Set display options to show all columns and set width to None for no truncation\n",
    "pd.set_option('display.max_columns', None)\n",
    "pd.set_option('display.max_colwidth', None)\n",
    "\n",
    "# Define the dictionary with the model, accuracy, and observation\n",
    "data = {\n",
    "    'Model': ['KNN', 'SVM (linear)', 'SVM (rbf)', 'SVM (polynomial)', 'SVM (sigmoid)'],\n",
    "    'Accuracy': [0.92, 0.89, 0.93, 0.90, 0.85],\n",
    "    'Precision': [0.95 , 0.88, 0.96,0.90,0.86],\n",
    "    'Recall': [0.92, 0.97, 0.94, 0.96, 0.93],\n",
    "    'F1-Score': [0.94, 0.92, 0.95, 0.93, 0.89],\n",
    "    'Observation': [\n",
    "        \"Balanced performance across metrics due to its simple yet effective approach of classifying data points based on nearest neighbors.\",\n",
    "        \"Lower accuracy may be due to the linear separation of classes, but high recall suggests effective identification of positive cases.\",\n",
    "        \"Achieved highest accuracy and precision by effectively capturing complex nonlinear relationships in the data.\",\n",
    "        \"Maintained a good balance between precision and recall by effectively capturing nonlinear relationships with a polynomial kernel.\",\n",
    "        \"Despite lower accuracy, maintains reasonable precision and recall, possibly due to its ability to capture complex relationships, albeit less effectively compared to other kernels.\"\n",
    "    ]\n",
    "}\n",
    "\n",
    "# Create a DataFrame from the dictionary\n",
    "df = pd.DataFrame(data)\n",
    "\n",
    "# Style the DataFrame to center-align field names\n",
    "styled_df = df.style.set_properties(**{'text-align': 'center'})\n",
    "\n",
    "# Display the styled DataFrame\n",
    "styled_df\n"
   ]
  },
  {
   "cell_type": "markdown",
   "metadata": {},
   "source": [
    "Conclusion:\n",
    "\n",
    "In this experiment I've learnt about classification using SVM algorithms. I've also learnt about the different types of SVM kernels. I've also implemented classification using SVM with different type of kernels."
   ]
  },
  {
   "cell_type": "code",
   "execution_count": null,
   "metadata": {},
   "outputs": [],
   "source": []
  }
 ],
 "metadata": {
  "kernelspec": {
   "display_name": "Python 3 (ipykernel)",
   "language": "python",
   "name": "python3"
  },
  "language_info": {
   "codemirror_mode": {
    "name": "ipython",
    "version": 3
   },
   "file_extension": ".py",
   "mimetype": "text/x-python",
   "name": "python",
   "nbconvert_exporter": "python",
   "pygments_lexer": "ipython3",
   "version": "3.9.13"
  }
 },
 "nbformat": 4,
 "nbformat_minor": 2
}
